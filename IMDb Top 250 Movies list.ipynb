{
 "cells": [
  {
   "cell_type": "code",
   "execution_count": 1,
   "metadata": {
    "collapsed": true
   },
   "outputs": [],
   "source": [
    "# 1.2 The IMDb Top 250 Movies list:\n",
    "# https://www.imdb.com/chart/top/\n",
    "# https://www.imdb.com/search/title/?title_type=feature&num_votes=25000,&genres=action&sort=num_votes,asc\n"
   ]
  },
  {
   "cell_type": "code",
   "execution_count": 2,
   "metadata": {},
   "outputs": [],
   "source": [
    "import pandas as pd\n",
    "import requests\n",
    "import matplotlib.pyplot as plt\n",
    "from bs4 import BeautifulSoup\n"
   ]
  },
  {
   "cell_type": "code",
   "execution_count": 3,
   "outputs": [],
   "source": [
    "url = 'https://www.imdb.com/chart/top/'\n"
   ],
   "metadata": {
    "collapsed": false
   }
  },
  {
   "cell_type": "code",
   "execution_count": 4,
   "outputs": [],
   "source": [
    "page = requests.get(url)\n"
   ],
   "metadata": {
    "collapsed": false
   }
  },
  {
   "cell_type": "code",
   "execution_count": 5,
   "outputs": [],
   "source": [
    "soup = BeautifulSoup(page.content, 'html.parser')\n"
   ],
   "metadata": {
    "collapsed": false
   }
  },
  {
   "cell_type": "code",
   "execution_count": 6,
   "outputs": [
    {
     "data": {
      "text/plain": "'Top 250 Movies - IMDb'"
     },
     "execution_count": 6,
     "metadata": {},
     "output_type": "execute_result"
    }
   ],
   "source": [
    "soup.title.text.strip()\n"
   ],
   "metadata": {
    "collapsed": false
   }
  },
  {
   "cell_type": "code",
   "execution_count": 7,
   "outputs": [],
   "source": [
    "# 1. Scrape the movie titles, release years, ratings, and other\n",
    "# data from the table and store it in a Pandas DataFrame for\n",
    "# further analysis.\n"
   ],
   "metadata": {
    "collapsed": false
   }
  },
  {
   "cell_type": "code",
   "execution_count": 8,
   "outputs": [],
   "source": [
    "title = soup.find_all('td', {'class': 'titleColumn'})\n"
   ],
   "metadata": {
    "collapsed": false
   }
  },
  {
   "cell_type": "code",
   "execution_count": 9,
   "outputs": [],
   "source": [
    "title_list = []\n",
    "for value in title:\n",
    "    title_list.append(value.text.strip().split('.'))\n"
   ],
   "metadata": {
    "collapsed": false
   }
  },
  {
   "cell_type": "code",
   "execution_count": 10,
   "outputs": [],
   "source": [
    "title_list2 = []\n",
    "for item in title_list:\n",
    "    title_list2.append(item[1].strip())\n"
   ],
   "metadata": {
    "collapsed": false
   }
  },
  {
   "cell_type": "code",
   "execution_count": 11,
   "outputs": [],
   "source": [
    "title_list3 = []\n",
    "for item in title_list2:\n",
    "    title_list3.append(item.replace('\\n', '').replace(')', '').split('('))\n"
   ],
   "metadata": {
    "collapsed": false
   }
  },
  {
   "cell_type": "code",
   "execution_count": 12,
   "outputs": [],
   "source": [
    "df_title = pd.DataFrame(title_list3)\n"
   ],
   "metadata": {
    "collapsed": false
   }
  },
  {
   "cell_type": "code",
   "execution_count": 13,
   "outputs": [
    {
     "data": {
      "text/plain": "                            0     1\n0    The Shawshank Redemption  1994\n1               The Godfather  1972\n2             The Dark Knight  2008\n3       The Godfather Part II  1974\n4                12 Angry Men  1957\n..                        ...   ...\n245               Dersu Uzala  1975\n246                  The Help  2011\n247                   Aladdin  1992\n248                    Gandhi  1982\n249        Dances with Wolves  1990\n\n[250 rows x 2 columns]",
      "text/html": "<div>\n<style scoped>\n    .dataframe tbody tr th:only-of-type {\n        vertical-align: middle;\n    }\n\n    .dataframe tbody tr th {\n        vertical-align: top;\n    }\n\n    .dataframe thead th {\n        text-align: right;\n    }\n</style>\n<table border=\"1\" class=\"dataframe\">\n  <thead>\n    <tr style=\"text-align: right;\">\n      <th></th>\n      <th>0</th>\n      <th>1</th>\n    </tr>\n  </thead>\n  <tbody>\n    <tr>\n      <th>0</th>\n      <td>The Shawshank Redemption</td>\n      <td>1994</td>\n    </tr>\n    <tr>\n      <th>1</th>\n      <td>The Godfather</td>\n      <td>1972</td>\n    </tr>\n    <tr>\n      <th>2</th>\n      <td>The Dark Knight</td>\n      <td>2008</td>\n    </tr>\n    <tr>\n      <th>3</th>\n      <td>The Godfather Part II</td>\n      <td>1974</td>\n    </tr>\n    <tr>\n      <th>4</th>\n      <td>12 Angry Men</td>\n      <td>1957</td>\n    </tr>\n    <tr>\n      <th>...</th>\n      <td>...</td>\n      <td>...</td>\n    </tr>\n    <tr>\n      <th>245</th>\n      <td>Dersu Uzala</td>\n      <td>1975</td>\n    </tr>\n    <tr>\n      <th>246</th>\n      <td>The Help</td>\n      <td>2011</td>\n    </tr>\n    <tr>\n      <th>247</th>\n      <td>Aladdin</td>\n      <td>1992</td>\n    </tr>\n    <tr>\n      <th>248</th>\n      <td>Gandhi</td>\n      <td>1982</td>\n    </tr>\n    <tr>\n      <th>249</th>\n      <td>Dances with Wolves</td>\n      <td>1990</td>\n    </tr>\n  </tbody>\n</table>\n<p>250 rows × 2 columns</p>\n</div>"
     },
     "execution_count": 13,
     "metadata": {},
     "output_type": "execute_result"
    }
   ],
   "source": [
    "df_title\n"
   ],
   "metadata": {
    "collapsed": false
   }
  },
  {
   "cell_type": "code",
   "execution_count": 14,
   "outputs": [],
   "source": [
    "df_title.rename(columns={0: 'Title'}, inplace=True)\n"
   ],
   "metadata": {
    "collapsed": false
   }
  },
  {
   "cell_type": "code",
   "execution_count": 15,
   "outputs": [
    {
     "data": {
      "text/plain": "                        Title     1\n0    The Shawshank Redemption  1994\n1               The Godfather  1972\n2             The Dark Knight  2008\n3       The Godfather Part II  1974\n4                12 Angry Men  1957\n..                        ...   ...\n245               Dersu Uzala  1975\n246                  The Help  2011\n247                   Aladdin  1992\n248                    Gandhi  1982\n249        Dances with Wolves  1990\n\n[250 rows x 2 columns]",
      "text/html": "<div>\n<style scoped>\n    .dataframe tbody tr th:only-of-type {\n        vertical-align: middle;\n    }\n\n    .dataframe tbody tr th {\n        vertical-align: top;\n    }\n\n    .dataframe thead th {\n        text-align: right;\n    }\n</style>\n<table border=\"1\" class=\"dataframe\">\n  <thead>\n    <tr style=\"text-align: right;\">\n      <th></th>\n      <th>Title</th>\n      <th>1</th>\n    </tr>\n  </thead>\n  <tbody>\n    <tr>\n      <th>0</th>\n      <td>The Shawshank Redemption</td>\n      <td>1994</td>\n    </tr>\n    <tr>\n      <th>1</th>\n      <td>The Godfather</td>\n      <td>1972</td>\n    </tr>\n    <tr>\n      <th>2</th>\n      <td>The Dark Knight</td>\n      <td>2008</td>\n    </tr>\n    <tr>\n      <th>3</th>\n      <td>The Godfather Part II</td>\n      <td>1974</td>\n    </tr>\n    <tr>\n      <th>4</th>\n      <td>12 Angry Men</td>\n      <td>1957</td>\n    </tr>\n    <tr>\n      <th>...</th>\n      <td>...</td>\n      <td>...</td>\n    </tr>\n    <tr>\n      <th>245</th>\n      <td>Dersu Uzala</td>\n      <td>1975</td>\n    </tr>\n    <tr>\n      <th>246</th>\n      <td>The Help</td>\n      <td>2011</td>\n    </tr>\n    <tr>\n      <th>247</th>\n      <td>Aladdin</td>\n      <td>1992</td>\n    </tr>\n    <tr>\n      <th>248</th>\n      <td>Gandhi</td>\n      <td>1982</td>\n    </tr>\n    <tr>\n      <th>249</th>\n      <td>Dances with Wolves</td>\n      <td>1990</td>\n    </tr>\n  </tbody>\n</table>\n<p>250 rows × 2 columns</p>\n</div>"
     },
     "execution_count": 15,
     "metadata": {},
     "output_type": "execute_result"
    }
   ],
   "source": [
    "df_title\n"
   ],
   "metadata": {
    "collapsed": false
   }
  },
  {
   "cell_type": "code",
   "execution_count": 16,
   "outputs": [],
   "source": [
    "df_title.rename(columns={1: 'Year_Released'}, inplace=True)\n"
   ],
   "metadata": {
    "collapsed": false
   }
  },
  {
   "cell_type": "code",
   "execution_count": 17,
   "outputs": [
    {
     "data": {
      "text/plain": "                        Title Year_Released\n0    The Shawshank Redemption          1994\n1               The Godfather          1972\n2             The Dark Knight          2008\n3       The Godfather Part II          1974\n4                12 Angry Men          1957\n..                        ...           ...\n245               Dersu Uzala          1975\n246                  The Help          2011\n247                   Aladdin          1992\n248                    Gandhi          1982\n249        Dances with Wolves          1990\n\n[250 rows x 2 columns]",
      "text/html": "<div>\n<style scoped>\n    .dataframe tbody tr th:only-of-type {\n        vertical-align: middle;\n    }\n\n    .dataframe tbody tr th {\n        vertical-align: top;\n    }\n\n    .dataframe thead th {\n        text-align: right;\n    }\n</style>\n<table border=\"1\" class=\"dataframe\">\n  <thead>\n    <tr style=\"text-align: right;\">\n      <th></th>\n      <th>Title</th>\n      <th>Year_Released</th>\n    </tr>\n  </thead>\n  <tbody>\n    <tr>\n      <th>0</th>\n      <td>The Shawshank Redemption</td>\n      <td>1994</td>\n    </tr>\n    <tr>\n      <th>1</th>\n      <td>The Godfather</td>\n      <td>1972</td>\n    </tr>\n    <tr>\n      <th>2</th>\n      <td>The Dark Knight</td>\n      <td>2008</td>\n    </tr>\n    <tr>\n      <th>3</th>\n      <td>The Godfather Part II</td>\n      <td>1974</td>\n    </tr>\n    <tr>\n      <th>4</th>\n      <td>12 Angry Men</td>\n      <td>1957</td>\n    </tr>\n    <tr>\n      <th>...</th>\n      <td>...</td>\n      <td>...</td>\n    </tr>\n    <tr>\n      <th>245</th>\n      <td>Dersu Uzala</td>\n      <td>1975</td>\n    </tr>\n    <tr>\n      <th>246</th>\n      <td>The Help</td>\n      <td>2011</td>\n    </tr>\n    <tr>\n      <th>247</th>\n      <td>Aladdin</td>\n      <td>1992</td>\n    </tr>\n    <tr>\n      <th>248</th>\n      <td>Gandhi</td>\n      <td>1982</td>\n    </tr>\n    <tr>\n      <th>249</th>\n      <td>Dances with Wolves</td>\n      <td>1990</td>\n    </tr>\n  </tbody>\n</table>\n<p>250 rows × 2 columns</p>\n</div>"
     },
     "execution_count": 17,
     "metadata": {},
     "output_type": "execute_result"
    }
   ],
   "source": [
    "df_title\n"
   ],
   "metadata": {
    "collapsed": false
   }
  },
  {
   "cell_type": "code",
   "execution_count": 18,
   "outputs": [],
   "source": [
    "df_title.set_index('Title', inplace=True)\n"
   ],
   "metadata": {
    "collapsed": false
   }
  },
  {
   "cell_type": "code",
   "execution_count": 19,
   "outputs": [
    {
     "data": {
      "text/plain": "                         Year_Released\nTitle                                 \nThe Shawshank Redemption          1994\nThe Godfather                     1972\nThe Dark Knight                   2008\nThe Godfather Part II             1974\n12 Angry Men                      1957\n...                                ...\nDersu Uzala                       1975\nThe Help                          2011\nAladdin                           1992\nGandhi                            1982\nDances with Wolves                1990\n\n[250 rows x 1 columns]",
      "text/html": "<div>\n<style scoped>\n    .dataframe tbody tr th:only-of-type {\n        vertical-align: middle;\n    }\n\n    .dataframe tbody tr th {\n        vertical-align: top;\n    }\n\n    .dataframe thead th {\n        text-align: right;\n    }\n</style>\n<table border=\"1\" class=\"dataframe\">\n  <thead>\n    <tr style=\"text-align: right;\">\n      <th></th>\n      <th>Year_Released</th>\n    </tr>\n    <tr>\n      <th>Title</th>\n      <th></th>\n    </tr>\n  </thead>\n  <tbody>\n    <tr>\n      <th>The Shawshank Redemption</th>\n      <td>1994</td>\n    </tr>\n    <tr>\n      <th>The Godfather</th>\n      <td>1972</td>\n    </tr>\n    <tr>\n      <th>The Dark Knight</th>\n      <td>2008</td>\n    </tr>\n    <tr>\n      <th>The Godfather Part II</th>\n      <td>1974</td>\n    </tr>\n    <tr>\n      <th>12 Angry Men</th>\n      <td>1957</td>\n    </tr>\n    <tr>\n      <th>...</th>\n      <td>...</td>\n    </tr>\n    <tr>\n      <th>Dersu Uzala</th>\n      <td>1975</td>\n    </tr>\n    <tr>\n      <th>The Help</th>\n      <td>2011</td>\n    </tr>\n    <tr>\n      <th>Aladdin</th>\n      <td>1992</td>\n    </tr>\n    <tr>\n      <th>Gandhi</th>\n      <td>1982</td>\n    </tr>\n    <tr>\n      <th>Dances with Wolves</th>\n      <td>1990</td>\n    </tr>\n  </tbody>\n</table>\n<p>250 rows × 1 columns</p>\n</div>"
     },
     "execution_count": 19,
     "metadata": {},
     "output_type": "execute_result"
    }
   ],
   "source": [
    "df_title\n"
   ],
   "metadata": {
    "collapsed": false
   }
  },
  {
   "cell_type": "code",
   "execution_count": 20,
   "outputs": [],
   "source": [
    "rating = soup.find_all('td', {'class': 'ratingColumn'})"
   ],
   "metadata": {
    "collapsed": false
   }
  },
  {
   "cell_type": "code",
   "execution_count": 21,
   "outputs": [],
   "source": [
    "rating_list = []\n",
    "for value in rating:\n",
    "    rating_list.append(value.text.strip())\n"
   ],
   "metadata": {
    "collapsed": false
   }
  },
  {
   "cell_type": "code",
   "execution_count": 22,
   "outputs": [],
   "source": [
    "rating_list2 = []\n",
    "for i in range(len(rating_list)):\n",
    "    if i % 2 == 0:\n",
    "        rating_list2.append(rating_list[i])\n"
   ],
   "metadata": {
    "collapsed": false
   }
  },
  {
   "cell_type": "code",
   "execution_count": 23,
   "outputs": [],
   "source": [
    "df_title['Ratings'] = rating_list2\n"
   ],
   "metadata": {
    "collapsed": false
   }
  },
  {
   "cell_type": "code",
   "execution_count": 24,
   "outputs": [
    {
     "data": {
      "text/plain": "                         Year_Released Ratings\nTitle                                         \nThe Shawshank Redemption          1994     9.2\nThe Godfather                     1972     9.2\nThe Dark Knight                   2008     9.0\nThe Godfather Part II             1974     9.0\n12 Angry Men                      1957     9.0\n...                                ...     ...\nDersu Uzala                       1975     8.0\nThe Help                          2011     8.0\nAladdin                           1992     8.0\nGandhi                            1982     8.0\nDances with Wolves                1990     8.0\n\n[250 rows x 2 columns]",
      "text/html": "<div>\n<style scoped>\n    .dataframe tbody tr th:only-of-type {\n        vertical-align: middle;\n    }\n\n    .dataframe tbody tr th {\n        vertical-align: top;\n    }\n\n    .dataframe thead th {\n        text-align: right;\n    }\n</style>\n<table border=\"1\" class=\"dataframe\">\n  <thead>\n    <tr style=\"text-align: right;\">\n      <th></th>\n      <th>Year_Released</th>\n      <th>Ratings</th>\n    </tr>\n    <tr>\n      <th>Title</th>\n      <th></th>\n      <th></th>\n    </tr>\n  </thead>\n  <tbody>\n    <tr>\n      <th>The Shawshank Redemption</th>\n      <td>1994</td>\n      <td>9.2</td>\n    </tr>\n    <tr>\n      <th>The Godfather</th>\n      <td>1972</td>\n      <td>9.2</td>\n    </tr>\n    <tr>\n      <th>The Dark Knight</th>\n      <td>2008</td>\n      <td>9.0</td>\n    </tr>\n    <tr>\n      <th>The Godfather Part II</th>\n      <td>1974</td>\n      <td>9.0</td>\n    </tr>\n    <tr>\n      <th>12 Angry Men</th>\n      <td>1957</td>\n      <td>9.0</td>\n    </tr>\n    <tr>\n      <th>...</th>\n      <td>...</td>\n      <td>...</td>\n    </tr>\n    <tr>\n      <th>Dersu Uzala</th>\n      <td>1975</td>\n      <td>8.0</td>\n    </tr>\n    <tr>\n      <th>The Help</th>\n      <td>2011</td>\n      <td>8.0</td>\n    </tr>\n    <tr>\n      <th>Aladdin</th>\n      <td>1992</td>\n      <td>8.0</td>\n    </tr>\n    <tr>\n      <th>Gandhi</th>\n      <td>1982</td>\n      <td>8.0</td>\n    </tr>\n    <tr>\n      <th>Dances with Wolves</th>\n      <td>1990</td>\n      <td>8.0</td>\n    </tr>\n  </tbody>\n</table>\n<p>250 rows × 2 columns</p>\n</div>"
     },
     "execution_count": 24,
     "metadata": {},
     "output_type": "execute_result"
    }
   ],
   "source": [
    "df_title\n"
   ],
   "metadata": {
    "collapsed": false
   }
  },
  {
   "cell_type": "code",
   "execution_count": 25,
   "outputs": [],
   "source": [
    "# 2. Extract the genres of each movie and create a visualization\n",
    "# of the most common genres using Pandas and Matplotlib.\n"
   ],
   "metadata": {
    "collapsed": false
   }
  },
  {
   "cell_type": "code",
   "execution_count": 26,
   "outputs": [],
   "source": [
    "url = 'https://www.imdb.com/search/title/?title_type=feature&num_votes=25000,&genres=action&sort=num_votes,asc'\n"
   ],
   "metadata": {
    "collapsed": false
   }
  },
  {
   "cell_type": "code",
   "execution_count": 27,
   "outputs": [],
   "source": [
    "page = requests.get(url)\n"
   ],
   "metadata": {
    "collapsed": false
   }
  },
  {
   "cell_type": "code",
   "execution_count": 28,
   "outputs": [],
   "source": [
    "soup = BeautifulSoup(page.content, 'html.parser')\n"
   ],
   "metadata": {
    "collapsed": false
   }
  },
  {
   "cell_type": "code",
   "execution_count": 29,
   "outputs": [],
   "source": [
    "top_titles = soup.find_all('h3', {'class': 'lister-item-header'})\n"
   ],
   "metadata": {
    "collapsed": false
   }
  },
  {
   "cell_type": "code",
   "execution_count": 30,
   "outputs": [],
   "source": [
    "top_titles_list = []\n",
    "for value in top_titles:\n",
    "    top_titles_list.append(value.text.replace('\\n', '').strip())\n"
   ],
   "metadata": {
    "collapsed": false
   }
  },
  {
   "cell_type": "code",
   "execution_count": 31,
   "outputs": [],
   "source": [
    "top_titles_list2 = []\n",
    "for value in top_titles_list:\n",
    "    top_titles_list2.append(value[2:])\n"
   ],
   "metadata": {
    "collapsed": false
   }
  },
  {
   "cell_type": "code",
   "execution_count": 80,
   "outputs": [],
   "source": [
    "top_titles_list3 = []\n",
    "for item in top_titles_list2:\n",
    "    if item[0] == '.':\n",
    "        top_titles_list3.append(item[1:])\n",
    "    else:\n",
    "        top_titles_list3.append(item)"
   ],
   "metadata": {
    "collapsed": false
   }
  },
  {
   "cell_type": "code",
   "execution_count": 81,
   "outputs": [],
   "source": [
    "df_top_titles = pd.DataFrame(top_titles_list3)\n"
   ],
   "metadata": {
    "collapsed": false
   }
  },
  {
   "cell_type": "code",
   "execution_count": 82,
   "outputs": [
    {
     "data": {
      "text/plain": "                                                0\n0                            Nowhere to Run(1993)\n1                              Stormbreaker(2006)\n2                    Muppet Treasure Island(1996)\n3                                 Agneepath(2012)\n4             Evangelion Shin Gekijôban: Jo(2007)\n5                           Koi... Mil Gaya(2003)\n6                                       2.0(2018)\n7           Crocodile Dundee in Los Angeles(2001)\n8                              The Contract(2006)\n9                               Men at Work(1990)\n10                                Død snø 2(2014)\n11                           Gabbar Is Back(2015)\n12                                     Eega(2012)\n13                                Close(I) (2019)\n14                             Rangasthalam(2018)\n15                          Shotgun Wedding(2022)\n16          Universal Soldier: Regeneration(2009)\n17                                  Godsend(2004)\n18                               The Shadow(1994)\n19                                  The Man(2005)\n20                              Arjun Reddy(2017)\n21                                Sarfarosh(1999)\n22                                  Thunivu(2023)\n23                               Rollerball(1975)\n24             The Adventures of Pluto Nash(2002)\n25                         Taeksi woonjunsa(2017)\n26    Spy Kids 4: All the Time in the World(2011)\n27                Thunderbolt and Lightfoot(1974)\n28                           An Action Hero(2022)\n29                           Hamburger Hill(1987)\n30                           The Black Hole(1979)\n31                            Bodyguard(I) (2011)\n32                                Seungriho(2021)\n33                            The Lovebirds(2020)\n34                        Mutant Chronicles(2008)\n35                        The Warrior's Way(2010)\n36                Jay and Silent Bob Reboot(2019)\n37                                  Cooties(2014)\n38                                The Quest(1996)\n39                              Heropanti 2(2022)\n40                                  Beckett(2021)\n41                                 Shehzada(2023)\n42                      Fire with Fire(II) (2012)\n43                                Lifeforce(1985)\n44               Tres metros sobre el cielo(2010)\n45                         The Outsider(I) (2018)\n46                   The Night Comes for Us(2018)\n47                                 Way Down(2021)\n48  Rurôni Kenshin: Meiji kenkaku roman tan(2012)\n49                           Tau ming chong(2007)",
      "text/html": "<div>\n<style scoped>\n    .dataframe tbody tr th:only-of-type {\n        vertical-align: middle;\n    }\n\n    .dataframe tbody tr th {\n        vertical-align: top;\n    }\n\n    .dataframe thead th {\n        text-align: right;\n    }\n</style>\n<table border=\"1\" class=\"dataframe\">\n  <thead>\n    <tr style=\"text-align: right;\">\n      <th></th>\n      <th>0</th>\n    </tr>\n  </thead>\n  <tbody>\n    <tr>\n      <th>0</th>\n      <td>Nowhere to Run(1993)</td>\n    </tr>\n    <tr>\n      <th>1</th>\n      <td>Stormbreaker(2006)</td>\n    </tr>\n    <tr>\n      <th>2</th>\n      <td>Muppet Treasure Island(1996)</td>\n    </tr>\n    <tr>\n      <th>3</th>\n      <td>Agneepath(2012)</td>\n    </tr>\n    <tr>\n      <th>4</th>\n      <td>Evangelion Shin Gekijôban: Jo(2007)</td>\n    </tr>\n    <tr>\n      <th>5</th>\n      <td>Koi... Mil Gaya(2003)</td>\n    </tr>\n    <tr>\n      <th>6</th>\n      <td>2.0(2018)</td>\n    </tr>\n    <tr>\n      <th>7</th>\n      <td>Crocodile Dundee in Los Angeles(2001)</td>\n    </tr>\n    <tr>\n      <th>8</th>\n      <td>The Contract(2006)</td>\n    </tr>\n    <tr>\n      <th>9</th>\n      <td>Men at Work(1990)</td>\n    </tr>\n    <tr>\n      <th>10</th>\n      <td>Død snø 2(2014)</td>\n    </tr>\n    <tr>\n      <th>11</th>\n      <td>Gabbar Is Back(2015)</td>\n    </tr>\n    <tr>\n      <th>12</th>\n      <td>Eega(2012)</td>\n    </tr>\n    <tr>\n      <th>13</th>\n      <td>Close(I) (2019)</td>\n    </tr>\n    <tr>\n      <th>14</th>\n      <td>Rangasthalam(2018)</td>\n    </tr>\n    <tr>\n      <th>15</th>\n      <td>Shotgun Wedding(2022)</td>\n    </tr>\n    <tr>\n      <th>16</th>\n      <td>Universal Soldier: Regeneration(2009)</td>\n    </tr>\n    <tr>\n      <th>17</th>\n      <td>Godsend(2004)</td>\n    </tr>\n    <tr>\n      <th>18</th>\n      <td>The Shadow(1994)</td>\n    </tr>\n    <tr>\n      <th>19</th>\n      <td>The Man(2005)</td>\n    </tr>\n    <tr>\n      <th>20</th>\n      <td>Arjun Reddy(2017)</td>\n    </tr>\n    <tr>\n      <th>21</th>\n      <td>Sarfarosh(1999)</td>\n    </tr>\n    <tr>\n      <th>22</th>\n      <td>Thunivu(2023)</td>\n    </tr>\n    <tr>\n      <th>23</th>\n      <td>Rollerball(1975)</td>\n    </tr>\n    <tr>\n      <th>24</th>\n      <td>The Adventures of Pluto Nash(2002)</td>\n    </tr>\n    <tr>\n      <th>25</th>\n      <td>Taeksi woonjunsa(2017)</td>\n    </tr>\n    <tr>\n      <th>26</th>\n      <td>Spy Kids 4: All the Time in the World(2011)</td>\n    </tr>\n    <tr>\n      <th>27</th>\n      <td>Thunderbolt and Lightfoot(1974)</td>\n    </tr>\n    <tr>\n      <th>28</th>\n      <td>An Action Hero(2022)</td>\n    </tr>\n    <tr>\n      <th>29</th>\n      <td>Hamburger Hill(1987)</td>\n    </tr>\n    <tr>\n      <th>30</th>\n      <td>The Black Hole(1979)</td>\n    </tr>\n    <tr>\n      <th>31</th>\n      <td>Bodyguard(I) (2011)</td>\n    </tr>\n    <tr>\n      <th>32</th>\n      <td>Seungriho(2021)</td>\n    </tr>\n    <tr>\n      <th>33</th>\n      <td>The Lovebirds(2020)</td>\n    </tr>\n    <tr>\n      <th>34</th>\n      <td>Mutant Chronicles(2008)</td>\n    </tr>\n    <tr>\n      <th>35</th>\n      <td>The Warrior's Way(2010)</td>\n    </tr>\n    <tr>\n      <th>36</th>\n      <td>Jay and Silent Bob Reboot(2019)</td>\n    </tr>\n    <tr>\n      <th>37</th>\n      <td>Cooties(2014)</td>\n    </tr>\n    <tr>\n      <th>38</th>\n      <td>The Quest(1996)</td>\n    </tr>\n    <tr>\n      <th>39</th>\n      <td>Heropanti 2(2022)</td>\n    </tr>\n    <tr>\n      <th>40</th>\n      <td>Beckett(2021)</td>\n    </tr>\n    <tr>\n      <th>41</th>\n      <td>Shehzada(2023)</td>\n    </tr>\n    <tr>\n      <th>42</th>\n      <td>Fire with Fire(II) (2012)</td>\n    </tr>\n    <tr>\n      <th>43</th>\n      <td>Lifeforce(1985)</td>\n    </tr>\n    <tr>\n      <th>44</th>\n      <td>Tres metros sobre el cielo(2010)</td>\n    </tr>\n    <tr>\n      <th>45</th>\n      <td>The Outsider(I) (2018)</td>\n    </tr>\n    <tr>\n      <th>46</th>\n      <td>The Night Comes for Us(2018)</td>\n    </tr>\n    <tr>\n      <th>47</th>\n      <td>Way Down(2021)</td>\n    </tr>\n    <tr>\n      <th>48</th>\n      <td>Rurôni Kenshin: Meiji kenkaku roman tan(2012)</td>\n    </tr>\n    <tr>\n      <th>49</th>\n      <td>Tau ming chong(2007)</td>\n    </tr>\n  </tbody>\n</table>\n</div>"
     },
     "execution_count": 82,
     "metadata": {},
     "output_type": "execute_result"
    }
   ],
   "source": [
    "df_top_titles\n"
   ],
   "metadata": {
    "collapsed": false
   }
  },
  {
   "cell_type": "code",
   "execution_count": 83,
   "outputs": [],
   "source": [
    "df_top_titles.rename(columns={0 : 'Top_Titles'}, inplace=True)\n"
   ],
   "metadata": {
    "collapsed": false
   }
  },
  {
   "cell_type": "code",
   "execution_count": 84,
   "outputs": [
    {
     "data": {
      "text/plain": "                                       Top_Titles\n0                            Nowhere to Run(1993)\n1                              Stormbreaker(2006)\n2                    Muppet Treasure Island(1996)\n3                                 Agneepath(2012)\n4             Evangelion Shin Gekijôban: Jo(2007)\n5                           Koi... Mil Gaya(2003)\n6                                       2.0(2018)\n7           Crocodile Dundee in Los Angeles(2001)\n8                              The Contract(2006)\n9                               Men at Work(1990)\n10                                Død snø 2(2014)\n11                           Gabbar Is Back(2015)\n12                                     Eega(2012)\n13                                Close(I) (2019)\n14                             Rangasthalam(2018)\n15                          Shotgun Wedding(2022)\n16          Universal Soldier: Regeneration(2009)\n17                                  Godsend(2004)\n18                               The Shadow(1994)\n19                                  The Man(2005)\n20                              Arjun Reddy(2017)\n21                                Sarfarosh(1999)\n22                                  Thunivu(2023)\n23                               Rollerball(1975)\n24             The Adventures of Pluto Nash(2002)\n25                         Taeksi woonjunsa(2017)\n26    Spy Kids 4: All the Time in the World(2011)\n27                Thunderbolt and Lightfoot(1974)\n28                           An Action Hero(2022)\n29                           Hamburger Hill(1987)\n30                           The Black Hole(1979)\n31                            Bodyguard(I) (2011)\n32                                Seungriho(2021)\n33                            The Lovebirds(2020)\n34                        Mutant Chronicles(2008)\n35                        The Warrior's Way(2010)\n36                Jay and Silent Bob Reboot(2019)\n37                                  Cooties(2014)\n38                                The Quest(1996)\n39                              Heropanti 2(2022)\n40                                  Beckett(2021)\n41                                 Shehzada(2023)\n42                      Fire with Fire(II) (2012)\n43                                Lifeforce(1985)\n44               Tres metros sobre el cielo(2010)\n45                         The Outsider(I) (2018)\n46                   The Night Comes for Us(2018)\n47                                 Way Down(2021)\n48  Rurôni Kenshin: Meiji kenkaku roman tan(2012)\n49                           Tau ming chong(2007)",
      "text/html": "<div>\n<style scoped>\n    .dataframe tbody tr th:only-of-type {\n        vertical-align: middle;\n    }\n\n    .dataframe tbody tr th {\n        vertical-align: top;\n    }\n\n    .dataframe thead th {\n        text-align: right;\n    }\n</style>\n<table border=\"1\" class=\"dataframe\">\n  <thead>\n    <tr style=\"text-align: right;\">\n      <th></th>\n      <th>Top_Titles</th>\n    </tr>\n  </thead>\n  <tbody>\n    <tr>\n      <th>0</th>\n      <td>Nowhere to Run(1993)</td>\n    </tr>\n    <tr>\n      <th>1</th>\n      <td>Stormbreaker(2006)</td>\n    </tr>\n    <tr>\n      <th>2</th>\n      <td>Muppet Treasure Island(1996)</td>\n    </tr>\n    <tr>\n      <th>3</th>\n      <td>Agneepath(2012)</td>\n    </tr>\n    <tr>\n      <th>4</th>\n      <td>Evangelion Shin Gekijôban: Jo(2007)</td>\n    </tr>\n    <tr>\n      <th>5</th>\n      <td>Koi... Mil Gaya(2003)</td>\n    </tr>\n    <tr>\n      <th>6</th>\n      <td>2.0(2018)</td>\n    </tr>\n    <tr>\n      <th>7</th>\n      <td>Crocodile Dundee in Los Angeles(2001)</td>\n    </tr>\n    <tr>\n      <th>8</th>\n      <td>The Contract(2006)</td>\n    </tr>\n    <tr>\n      <th>9</th>\n      <td>Men at Work(1990)</td>\n    </tr>\n    <tr>\n      <th>10</th>\n      <td>Død snø 2(2014)</td>\n    </tr>\n    <tr>\n      <th>11</th>\n      <td>Gabbar Is Back(2015)</td>\n    </tr>\n    <tr>\n      <th>12</th>\n      <td>Eega(2012)</td>\n    </tr>\n    <tr>\n      <th>13</th>\n      <td>Close(I) (2019)</td>\n    </tr>\n    <tr>\n      <th>14</th>\n      <td>Rangasthalam(2018)</td>\n    </tr>\n    <tr>\n      <th>15</th>\n      <td>Shotgun Wedding(2022)</td>\n    </tr>\n    <tr>\n      <th>16</th>\n      <td>Universal Soldier: Regeneration(2009)</td>\n    </tr>\n    <tr>\n      <th>17</th>\n      <td>Godsend(2004)</td>\n    </tr>\n    <tr>\n      <th>18</th>\n      <td>The Shadow(1994)</td>\n    </tr>\n    <tr>\n      <th>19</th>\n      <td>The Man(2005)</td>\n    </tr>\n    <tr>\n      <th>20</th>\n      <td>Arjun Reddy(2017)</td>\n    </tr>\n    <tr>\n      <th>21</th>\n      <td>Sarfarosh(1999)</td>\n    </tr>\n    <tr>\n      <th>22</th>\n      <td>Thunivu(2023)</td>\n    </tr>\n    <tr>\n      <th>23</th>\n      <td>Rollerball(1975)</td>\n    </tr>\n    <tr>\n      <th>24</th>\n      <td>The Adventures of Pluto Nash(2002)</td>\n    </tr>\n    <tr>\n      <th>25</th>\n      <td>Taeksi woonjunsa(2017)</td>\n    </tr>\n    <tr>\n      <th>26</th>\n      <td>Spy Kids 4: All the Time in the World(2011)</td>\n    </tr>\n    <tr>\n      <th>27</th>\n      <td>Thunderbolt and Lightfoot(1974)</td>\n    </tr>\n    <tr>\n      <th>28</th>\n      <td>An Action Hero(2022)</td>\n    </tr>\n    <tr>\n      <th>29</th>\n      <td>Hamburger Hill(1987)</td>\n    </tr>\n    <tr>\n      <th>30</th>\n      <td>The Black Hole(1979)</td>\n    </tr>\n    <tr>\n      <th>31</th>\n      <td>Bodyguard(I) (2011)</td>\n    </tr>\n    <tr>\n      <th>32</th>\n      <td>Seungriho(2021)</td>\n    </tr>\n    <tr>\n      <th>33</th>\n      <td>The Lovebirds(2020)</td>\n    </tr>\n    <tr>\n      <th>34</th>\n      <td>Mutant Chronicles(2008)</td>\n    </tr>\n    <tr>\n      <th>35</th>\n      <td>The Warrior's Way(2010)</td>\n    </tr>\n    <tr>\n      <th>36</th>\n      <td>Jay and Silent Bob Reboot(2019)</td>\n    </tr>\n    <tr>\n      <th>37</th>\n      <td>Cooties(2014)</td>\n    </tr>\n    <tr>\n      <th>38</th>\n      <td>The Quest(1996)</td>\n    </tr>\n    <tr>\n      <th>39</th>\n      <td>Heropanti 2(2022)</td>\n    </tr>\n    <tr>\n      <th>40</th>\n      <td>Beckett(2021)</td>\n    </tr>\n    <tr>\n      <th>41</th>\n      <td>Shehzada(2023)</td>\n    </tr>\n    <tr>\n      <th>42</th>\n      <td>Fire with Fire(II) (2012)</td>\n    </tr>\n    <tr>\n      <th>43</th>\n      <td>Lifeforce(1985)</td>\n    </tr>\n    <tr>\n      <th>44</th>\n      <td>Tres metros sobre el cielo(2010)</td>\n    </tr>\n    <tr>\n      <th>45</th>\n      <td>The Outsider(I) (2018)</td>\n    </tr>\n    <tr>\n      <th>46</th>\n      <td>The Night Comes for Us(2018)</td>\n    </tr>\n    <tr>\n      <th>47</th>\n      <td>Way Down(2021)</td>\n    </tr>\n    <tr>\n      <th>48</th>\n      <td>Rurôni Kenshin: Meiji kenkaku roman tan(2012)</td>\n    </tr>\n    <tr>\n      <th>49</th>\n      <td>Tau ming chong(2007)</td>\n    </tr>\n  </tbody>\n</table>\n</div>"
     },
     "execution_count": 84,
     "metadata": {},
     "output_type": "execute_result"
    }
   ],
   "source": [
    "df_top_titles\n"
   ],
   "metadata": {
    "collapsed": false
   }
  },
  {
   "cell_type": "code",
   "execution_count": 85,
   "outputs": [],
   "source": [
    "genre = soup.find_all('span', {'class': 'genre'})\n"
   ],
   "metadata": {
    "collapsed": false
   }
  },
  {
   "cell_type": "code",
   "execution_count": 86,
   "outputs": [],
   "source": [
    "genre_list = []\n",
    "for value in genre:\n",
    "    genre_list.append(value.text.strip())\n"
   ],
   "metadata": {
    "collapsed": false
   }
  },
  {
   "cell_type": "code",
   "execution_count": 87,
   "outputs": [],
   "source": [
    "df_top_titles['Genres'] = genre_list\n"
   ],
   "metadata": {
    "collapsed": false
   }
  },
  {
   "cell_type": "code",
   "execution_count": 88,
   "outputs": [
    {
     "data": {
      "text/plain": "                                       Top_Titles                       Genres\n0                            Nowhere to Run(1993)       Action, Drama, Romance\n1                              Stormbreaker(2006)    Action, Adventure, Family\n2                    Muppet Treasure Island(1996)    Action, Adventure, Comedy\n3                                 Agneepath(2012)         Action, Crime, Drama\n4             Evangelion Shin Gekijôban: Jo(2007)     Animation, Action, Drama\n5                           Koi... Mil Gaya(2003)       Action, Drama, Romance\n6                                       2.0(2018)     Action, Sci-Fi, Thriller\n7           Crocodile Dundee in Los Angeles(2001)    Action, Adventure, Comedy\n8                              The Contract(2006)         Action, Crime, Drama\n9                               Men at Work(1990)        Action, Comedy, Crime\n10                                Død snø 2(2014)      Action, Comedy, Fantasy\n11                           Gabbar Is Back(2015)         Action, Crime, Drama\n12                                     Eega(2012)        Action, Comedy, Drama\n13                                Close(I) (2019)      Action, Drama, Thriller\n14                             Rangasthalam(2018)                Action, Drama\n15                          Shotgun Wedding(2022)      Action, Comedy, Romance\n16          Universal Soldier: Regeneration(2009)    Action, Adventure, Sci-Fi\n17                                  Godsend(2004)       Action, Drama, Fantasy\n18                               The Shadow(1994)     Action, Adventure, Crime\n19                                  The Man(2005)        Action, Comedy, Crime\n20                              Arjun Reddy(2017)       Action, Drama, Romance\n21                                Sarfarosh(1999)      Action, Drama, Thriller\n22                                  Thunivu(2023)  Action, Adventure, Thriller\n23                               Rollerball(1975)        Action, Sci-Fi, Sport\n24             The Adventures of Pluto Nash(2002)       Action, Comedy, Sci-Fi\n25                         Taeksi woonjunsa(2017)       Action, Drama, History\n26    Spy Kids 4: All the Time in the World(2011)    Action, Adventure, Comedy\n27                Thunderbolt and Lightfoot(1974)        Action, Comedy, Crime\n28                           An Action Hero(2022)        Action, Comedy, Crime\n29                           Hamburger Hill(1987)      Action, Drama, Thriller\n30                           The Black Hole(1979)               Action, Sci-Fi\n31                            Bodyguard(I) (2011)        Action, Comedy, Drama\n32                                Seungriho(2021)     Action, Adventure, Drama\n33                            The Lovebirds(2020)        Action, Comedy, Crime\n34                        Mutant Chronicles(2008)   Action, Adventure, Mystery\n35                        The Warrior's Way(2010)     Action, Fantasy, Western\n36                Jay and Silent Bob Reboot(2019)    Action, Adventure, Comedy\n37                                  Cooties(2014)       Action, Comedy, Horror\n38                                The Quest(1996)     Action, Adventure, Drama\n39                              Heropanti 2(2022)        Action, Comedy, Crime\n40                                  Beckett(2021)         Action, Crime, Drama\n41                                 Shehzada(2023)        Action, Comedy, Drama\n42                      Fire with Fire(II) (2012)             Action, Thriller\n43                                Lifeforce(1985)      Action, Horror, Mystery\n44               Tres metros sobre el cielo(2010)       Action, Drama, Romance\n45                         The Outsider(I) (2018)         Action, Crime, Drama\n46                   The Night Comes for Us(2018)             Action, Thriller\n47                                 Way Down(2021)  Action, Adventure, Thriller\n48  Rurôni Kenshin: Meiji kenkaku roman tan(2012)     Action, Adventure, Drama\n49                           Tau ming chong(2007)     Action, Adventure, Drama",
      "text/html": "<div>\n<style scoped>\n    .dataframe tbody tr th:only-of-type {\n        vertical-align: middle;\n    }\n\n    .dataframe tbody tr th {\n        vertical-align: top;\n    }\n\n    .dataframe thead th {\n        text-align: right;\n    }\n</style>\n<table border=\"1\" class=\"dataframe\">\n  <thead>\n    <tr style=\"text-align: right;\">\n      <th></th>\n      <th>Top_Titles</th>\n      <th>Genres</th>\n    </tr>\n  </thead>\n  <tbody>\n    <tr>\n      <th>0</th>\n      <td>Nowhere to Run(1993)</td>\n      <td>Action, Drama, Romance</td>\n    </tr>\n    <tr>\n      <th>1</th>\n      <td>Stormbreaker(2006)</td>\n      <td>Action, Adventure, Family</td>\n    </tr>\n    <tr>\n      <th>2</th>\n      <td>Muppet Treasure Island(1996)</td>\n      <td>Action, Adventure, Comedy</td>\n    </tr>\n    <tr>\n      <th>3</th>\n      <td>Agneepath(2012)</td>\n      <td>Action, Crime, Drama</td>\n    </tr>\n    <tr>\n      <th>4</th>\n      <td>Evangelion Shin Gekijôban: Jo(2007)</td>\n      <td>Animation, Action, Drama</td>\n    </tr>\n    <tr>\n      <th>5</th>\n      <td>Koi... Mil Gaya(2003)</td>\n      <td>Action, Drama, Romance</td>\n    </tr>\n    <tr>\n      <th>6</th>\n      <td>2.0(2018)</td>\n      <td>Action, Sci-Fi, Thriller</td>\n    </tr>\n    <tr>\n      <th>7</th>\n      <td>Crocodile Dundee in Los Angeles(2001)</td>\n      <td>Action, Adventure, Comedy</td>\n    </tr>\n    <tr>\n      <th>8</th>\n      <td>The Contract(2006)</td>\n      <td>Action, Crime, Drama</td>\n    </tr>\n    <tr>\n      <th>9</th>\n      <td>Men at Work(1990)</td>\n      <td>Action, Comedy, Crime</td>\n    </tr>\n    <tr>\n      <th>10</th>\n      <td>Død snø 2(2014)</td>\n      <td>Action, Comedy, Fantasy</td>\n    </tr>\n    <tr>\n      <th>11</th>\n      <td>Gabbar Is Back(2015)</td>\n      <td>Action, Crime, Drama</td>\n    </tr>\n    <tr>\n      <th>12</th>\n      <td>Eega(2012)</td>\n      <td>Action, Comedy, Drama</td>\n    </tr>\n    <tr>\n      <th>13</th>\n      <td>Close(I) (2019)</td>\n      <td>Action, Drama, Thriller</td>\n    </tr>\n    <tr>\n      <th>14</th>\n      <td>Rangasthalam(2018)</td>\n      <td>Action, Drama</td>\n    </tr>\n    <tr>\n      <th>15</th>\n      <td>Shotgun Wedding(2022)</td>\n      <td>Action, Comedy, Romance</td>\n    </tr>\n    <tr>\n      <th>16</th>\n      <td>Universal Soldier: Regeneration(2009)</td>\n      <td>Action, Adventure, Sci-Fi</td>\n    </tr>\n    <tr>\n      <th>17</th>\n      <td>Godsend(2004)</td>\n      <td>Action, Drama, Fantasy</td>\n    </tr>\n    <tr>\n      <th>18</th>\n      <td>The Shadow(1994)</td>\n      <td>Action, Adventure, Crime</td>\n    </tr>\n    <tr>\n      <th>19</th>\n      <td>The Man(2005)</td>\n      <td>Action, Comedy, Crime</td>\n    </tr>\n    <tr>\n      <th>20</th>\n      <td>Arjun Reddy(2017)</td>\n      <td>Action, Drama, Romance</td>\n    </tr>\n    <tr>\n      <th>21</th>\n      <td>Sarfarosh(1999)</td>\n      <td>Action, Drama, Thriller</td>\n    </tr>\n    <tr>\n      <th>22</th>\n      <td>Thunivu(2023)</td>\n      <td>Action, Adventure, Thriller</td>\n    </tr>\n    <tr>\n      <th>23</th>\n      <td>Rollerball(1975)</td>\n      <td>Action, Sci-Fi, Sport</td>\n    </tr>\n    <tr>\n      <th>24</th>\n      <td>The Adventures of Pluto Nash(2002)</td>\n      <td>Action, Comedy, Sci-Fi</td>\n    </tr>\n    <tr>\n      <th>25</th>\n      <td>Taeksi woonjunsa(2017)</td>\n      <td>Action, Drama, History</td>\n    </tr>\n    <tr>\n      <th>26</th>\n      <td>Spy Kids 4: All the Time in the World(2011)</td>\n      <td>Action, Adventure, Comedy</td>\n    </tr>\n    <tr>\n      <th>27</th>\n      <td>Thunderbolt and Lightfoot(1974)</td>\n      <td>Action, Comedy, Crime</td>\n    </tr>\n    <tr>\n      <th>28</th>\n      <td>An Action Hero(2022)</td>\n      <td>Action, Comedy, Crime</td>\n    </tr>\n    <tr>\n      <th>29</th>\n      <td>Hamburger Hill(1987)</td>\n      <td>Action, Drama, Thriller</td>\n    </tr>\n    <tr>\n      <th>30</th>\n      <td>The Black Hole(1979)</td>\n      <td>Action, Sci-Fi</td>\n    </tr>\n    <tr>\n      <th>31</th>\n      <td>Bodyguard(I) (2011)</td>\n      <td>Action, Comedy, Drama</td>\n    </tr>\n    <tr>\n      <th>32</th>\n      <td>Seungriho(2021)</td>\n      <td>Action, Adventure, Drama</td>\n    </tr>\n    <tr>\n      <th>33</th>\n      <td>The Lovebirds(2020)</td>\n      <td>Action, Comedy, Crime</td>\n    </tr>\n    <tr>\n      <th>34</th>\n      <td>Mutant Chronicles(2008)</td>\n      <td>Action, Adventure, Mystery</td>\n    </tr>\n    <tr>\n      <th>35</th>\n      <td>The Warrior's Way(2010)</td>\n      <td>Action, Fantasy, Western</td>\n    </tr>\n    <tr>\n      <th>36</th>\n      <td>Jay and Silent Bob Reboot(2019)</td>\n      <td>Action, Adventure, Comedy</td>\n    </tr>\n    <tr>\n      <th>37</th>\n      <td>Cooties(2014)</td>\n      <td>Action, Comedy, Horror</td>\n    </tr>\n    <tr>\n      <th>38</th>\n      <td>The Quest(1996)</td>\n      <td>Action, Adventure, Drama</td>\n    </tr>\n    <tr>\n      <th>39</th>\n      <td>Heropanti 2(2022)</td>\n      <td>Action, Comedy, Crime</td>\n    </tr>\n    <tr>\n      <th>40</th>\n      <td>Beckett(2021)</td>\n      <td>Action, Crime, Drama</td>\n    </tr>\n    <tr>\n      <th>41</th>\n      <td>Shehzada(2023)</td>\n      <td>Action, Comedy, Drama</td>\n    </tr>\n    <tr>\n      <th>42</th>\n      <td>Fire with Fire(II) (2012)</td>\n      <td>Action, Thriller</td>\n    </tr>\n    <tr>\n      <th>43</th>\n      <td>Lifeforce(1985)</td>\n      <td>Action, Horror, Mystery</td>\n    </tr>\n    <tr>\n      <th>44</th>\n      <td>Tres metros sobre el cielo(2010)</td>\n      <td>Action, Drama, Romance</td>\n    </tr>\n    <tr>\n      <th>45</th>\n      <td>The Outsider(I) (2018)</td>\n      <td>Action, Crime, Drama</td>\n    </tr>\n    <tr>\n      <th>46</th>\n      <td>The Night Comes for Us(2018)</td>\n      <td>Action, Thriller</td>\n    </tr>\n    <tr>\n      <th>47</th>\n      <td>Way Down(2021)</td>\n      <td>Action, Adventure, Thriller</td>\n    </tr>\n    <tr>\n      <th>48</th>\n      <td>Rurôni Kenshin: Meiji kenkaku roman tan(2012)</td>\n      <td>Action, Adventure, Drama</td>\n    </tr>\n    <tr>\n      <th>49</th>\n      <td>Tau ming chong(2007)</td>\n      <td>Action, Adventure, Drama</td>\n    </tr>\n  </tbody>\n</table>\n</div>"
     },
     "execution_count": 88,
     "metadata": {},
     "output_type": "execute_result"
    }
   ],
   "source": [
    "df_top_titles\n"
   ],
   "metadata": {
    "collapsed": false
   }
  },
  {
   "cell_type": "code",
   "execution_count": 89,
   "outputs": [],
   "source": [
    "genre_separate = []\n",
    "for genre_group in df_top_titles.Genres:\n",
    "    genre_separate.append(genre_group.split(','))\n",
    "\n"
   ],
   "metadata": {
    "collapsed": false
   }
  },
  {
   "cell_type": "code",
   "execution_count": 90,
   "outputs": [],
   "source": [
    "genre_set = set()\n",
    "for item in genre_separate:\n",
    "    for i in range(len(item)):\n",
    "        genre_set.add(item[i].strip())\n"
   ],
   "metadata": {
    "collapsed": false
   }
  },
  {
   "cell_type": "code",
   "execution_count": 91,
   "outputs": [],
   "source": [
    "genre_count = []\n",
    "\n",
    "for genre in genre_set:\n",
    "    count = 0\n",
    "    for item in genre_separate:\n",
    "        for i in range(len(item)):\n",
    "            v = item[i].strip()\n",
    "            if v == genre:\n",
    "                count += 1\n",
    "    genre_count.append(count)\n"
   ],
   "metadata": {
    "collapsed": false
   }
  },
  {
   "cell_type": "code",
   "execution_count": 92,
   "outputs": [
    {
     "data": {
      "text/plain": "16"
     },
     "execution_count": 92,
     "metadata": {},
     "output_type": "execute_result"
    }
   ],
   "source": [
    "len(genre_count)\n"
   ],
   "metadata": {
    "collapsed": false
   }
  },
  {
   "cell_type": "code",
   "execution_count": 93,
   "outputs": [
    {
     "data": {
      "text/plain": "16"
     },
     "execution_count": 93,
     "metadata": {},
     "output_type": "execute_result"
    }
   ],
   "source": [
    "len(genre_set)\n"
   ],
   "metadata": {
    "collapsed": false
   }
  },
  {
   "cell_type": "code",
   "execution_count": 94,
   "outputs": [],
   "source": [
    "df_genre_count = pd.DataFrame(genre_set)\n"
   ],
   "metadata": {
    "collapsed": false
   }
  },
  {
   "cell_type": "code",
   "execution_count": 95,
   "outputs": [],
   "source": [
    "df_genre_count['Count'] = genre_count\n"
   ],
   "metadata": {
    "collapsed": false
   }
  },
  {
   "cell_type": "code",
   "execution_count": 96,
   "outputs": [
    {
     "data": {
      "text/plain": "            0  Count\n0       Drama     23\n1      Comedy     17\n2      Sci-Fi      5\n3      Family      1\n4       Crime     12\n5      Horror      2\n6       Sport      1\n7   Adventure     14\n8     Western      1\n9     History      1\n10  Animation      1\n11    Mystery      2\n12     Action     50\n13    Fantasy      3\n14   Thriller      8\n15    Romance      5",
      "text/html": "<div>\n<style scoped>\n    .dataframe tbody tr th:only-of-type {\n        vertical-align: middle;\n    }\n\n    .dataframe tbody tr th {\n        vertical-align: top;\n    }\n\n    .dataframe thead th {\n        text-align: right;\n    }\n</style>\n<table border=\"1\" class=\"dataframe\">\n  <thead>\n    <tr style=\"text-align: right;\">\n      <th></th>\n      <th>0</th>\n      <th>Count</th>\n    </tr>\n  </thead>\n  <tbody>\n    <tr>\n      <th>0</th>\n      <td>Drama</td>\n      <td>23</td>\n    </tr>\n    <tr>\n      <th>1</th>\n      <td>Comedy</td>\n      <td>17</td>\n    </tr>\n    <tr>\n      <th>2</th>\n      <td>Sci-Fi</td>\n      <td>5</td>\n    </tr>\n    <tr>\n      <th>3</th>\n      <td>Family</td>\n      <td>1</td>\n    </tr>\n    <tr>\n      <th>4</th>\n      <td>Crime</td>\n      <td>12</td>\n    </tr>\n    <tr>\n      <th>5</th>\n      <td>Horror</td>\n      <td>2</td>\n    </tr>\n    <tr>\n      <th>6</th>\n      <td>Sport</td>\n      <td>1</td>\n    </tr>\n    <tr>\n      <th>7</th>\n      <td>Adventure</td>\n      <td>14</td>\n    </tr>\n    <tr>\n      <th>8</th>\n      <td>Western</td>\n      <td>1</td>\n    </tr>\n    <tr>\n      <th>9</th>\n      <td>History</td>\n      <td>1</td>\n    </tr>\n    <tr>\n      <th>10</th>\n      <td>Animation</td>\n      <td>1</td>\n    </tr>\n    <tr>\n      <th>11</th>\n      <td>Mystery</td>\n      <td>2</td>\n    </tr>\n    <tr>\n      <th>12</th>\n      <td>Action</td>\n      <td>50</td>\n    </tr>\n    <tr>\n      <th>13</th>\n      <td>Fantasy</td>\n      <td>3</td>\n    </tr>\n    <tr>\n      <th>14</th>\n      <td>Thriller</td>\n      <td>8</td>\n    </tr>\n    <tr>\n      <th>15</th>\n      <td>Romance</td>\n      <td>5</td>\n    </tr>\n  </tbody>\n</table>\n</div>"
     },
     "execution_count": 96,
     "metadata": {},
     "output_type": "execute_result"
    }
   ],
   "source": [
    "df_genre_count\n"
   ],
   "metadata": {
    "collapsed": false
   }
  },
  {
   "cell_type": "code",
   "execution_count": 97,
   "outputs": [],
   "source": [
    "df_genre_count.rename(columns={0 : 'Genres'}, inplace=True)\n"
   ],
   "metadata": {
    "collapsed": false
   }
  },
  {
   "cell_type": "code",
   "execution_count": 98,
   "outputs": [
    {
     "data": {
      "text/plain": "       Genres  Count\n0       Drama     23\n1      Comedy     17\n2      Sci-Fi      5\n3      Family      1\n4       Crime     12\n5      Horror      2\n6       Sport      1\n7   Adventure     14\n8     Western      1\n9     History      1\n10  Animation      1\n11    Mystery      2\n12     Action     50\n13    Fantasy      3\n14   Thriller      8\n15    Romance      5",
      "text/html": "<div>\n<style scoped>\n    .dataframe tbody tr th:only-of-type {\n        vertical-align: middle;\n    }\n\n    .dataframe tbody tr th {\n        vertical-align: top;\n    }\n\n    .dataframe thead th {\n        text-align: right;\n    }\n</style>\n<table border=\"1\" class=\"dataframe\">\n  <thead>\n    <tr style=\"text-align: right;\">\n      <th></th>\n      <th>Genres</th>\n      <th>Count</th>\n    </tr>\n  </thead>\n  <tbody>\n    <tr>\n      <th>0</th>\n      <td>Drama</td>\n      <td>23</td>\n    </tr>\n    <tr>\n      <th>1</th>\n      <td>Comedy</td>\n      <td>17</td>\n    </tr>\n    <tr>\n      <th>2</th>\n      <td>Sci-Fi</td>\n      <td>5</td>\n    </tr>\n    <tr>\n      <th>3</th>\n      <td>Family</td>\n      <td>1</td>\n    </tr>\n    <tr>\n      <th>4</th>\n      <td>Crime</td>\n      <td>12</td>\n    </tr>\n    <tr>\n      <th>5</th>\n      <td>Horror</td>\n      <td>2</td>\n    </tr>\n    <tr>\n      <th>6</th>\n      <td>Sport</td>\n      <td>1</td>\n    </tr>\n    <tr>\n      <th>7</th>\n      <td>Adventure</td>\n      <td>14</td>\n    </tr>\n    <tr>\n      <th>8</th>\n      <td>Western</td>\n      <td>1</td>\n    </tr>\n    <tr>\n      <th>9</th>\n      <td>History</td>\n      <td>1</td>\n    </tr>\n    <tr>\n      <th>10</th>\n      <td>Animation</td>\n      <td>1</td>\n    </tr>\n    <tr>\n      <th>11</th>\n      <td>Mystery</td>\n      <td>2</td>\n    </tr>\n    <tr>\n      <th>12</th>\n      <td>Action</td>\n      <td>50</td>\n    </tr>\n    <tr>\n      <th>13</th>\n      <td>Fantasy</td>\n      <td>3</td>\n    </tr>\n    <tr>\n      <th>14</th>\n      <td>Thriller</td>\n      <td>8</td>\n    </tr>\n    <tr>\n      <th>15</th>\n      <td>Romance</td>\n      <td>5</td>\n    </tr>\n  </tbody>\n</table>\n</div>"
     },
     "execution_count": 98,
     "metadata": {},
     "output_type": "execute_result"
    }
   ],
   "source": [
    "df_genre_count\n"
   ],
   "metadata": {
    "collapsed": false
   }
  },
  {
   "cell_type": "code",
   "execution_count": 99,
   "outputs": [],
   "source": [
    "df_genre_count.set_index('Genres', inplace=True)\n"
   ],
   "metadata": {
    "collapsed": false
   }
  },
  {
   "cell_type": "code",
   "execution_count": 100,
   "outputs": [
    {
     "data": {
      "text/plain": "<Figure size 640x480 with 1 Axes>",
      "image/png": "[encoded data removed]"
     },
     "metadata": {},
     "output_type": "display_data"
    }
   ],
   "source": [
    "df_genre_count.plot(kind='barh')\n",
    "plt.show()\n"
   ],
   "metadata": {
    "collapsed": false
   }
  },
  {
   "cell_type": "code",
   "execution_count": 101,
   "outputs": [],
   "source": [
    "# 3. Create a scatterplot of the movie ratings versus the number of\n",
    "# votes using Pandas and Matplotlib to visualize the relationship\n",
    "# between ratings and popularity.\n",
    "\n"
   ],
   "metadata": {
    "collapsed": false
   }
  },
  {
   "cell_type": "code",
   "execution_count": 102,
   "outputs": [],
   "source": [
    "ratings = soup.find_all('div', {'class': 'ratings-imdb-rating'})\n"
   ],
   "metadata": {
    "collapsed": false
   }
  },
  {
   "cell_type": "code",
   "execution_count": 103,
   "outputs": [],
   "source": [
    "ratings_list = []\n",
    "for value in ratings:\n",
    "    ratings_list.append(value.text.strip())\n"
   ],
   "metadata": {
    "collapsed": false
   }
  },
  {
   "cell_type": "code",
   "execution_count": 104,
   "outputs": [],
   "source": [
    "df_top_titles['Ratings'] = ratings_list\n"
   ],
   "metadata": {
    "collapsed": false
   }
  },
  {
   "cell_type": "code",
   "execution_count": 105,
   "outputs": [
    {
     "data": {
      "text/plain": "                                       Top_Titles  \\\n0                            Nowhere to Run(1993)   \n1                              Stormbreaker(2006)   \n2                    Muppet Treasure Island(1996)   \n3                                 Agneepath(2012)   \n4             Evangelion Shin Gekijôban: Jo(2007)   \n5                           Koi... Mil Gaya(2003)   \n6                                       2.0(2018)   \n7           Crocodile Dundee in Los Angeles(2001)   \n8                              The Contract(2006)   \n9                               Men at Work(1990)   \n10                                Død snø 2(2014)   \n11                           Gabbar Is Back(2015)   \n12                                     Eega(2012)   \n13                                Close(I) (2019)   \n14                             Rangasthalam(2018)   \n15                          Shotgun Wedding(2022)   \n16          Universal Soldier: Regeneration(2009)   \n17                                  Godsend(2004)   \n18                               The Shadow(1994)   \n19                                  The Man(2005)   \n20                              Arjun Reddy(2017)   \n21                                Sarfarosh(1999)   \n22                                  Thunivu(2023)   \n23                               Rollerball(1975)   \n24             The Adventures of Pluto Nash(2002)   \n25                         Taeksi woonjunsa(2017)   \n26    Spy Kids 4: All the Time in the World(2011)   \n27                Thunderbolt and Lightfoot(1974)   \n28                           An Action Hero(2022)   \n29                           Hamburger Hill(1987)   \n30                           The Black Hole(1979)   \n31                            Bodyguard(I) (2011)   \n32                                Seungriho(2021)   \n33                            The Lovebirds(2020)   \n34                        Mutant Chronicles(2008)   \n35                        The Warrior's Way(2010)   \n36                Jay and Silent Bob Reboot(2019)   \n37                                  Cooties(2014)   \n38                                The Quest(1996)   \n39                              Heropanti 2(2022)   \n40                                  Beckett(2021)   \n41                                 Shehzada(2023)   \n42                      Fire with Fire(II) (2012)   \n43                                Lifeforce(1985)   \n44               Tres metros sobre el cielo(2010)   \n45                         The Outsider(I) (2018)   \n46                   The Night Comes for Us(2018)   \n47                                 Way Down(2021)   \n48  Rurôni Kenshin: Meiji kenkaku roman tan(2012)   \n49                           Tau ming chong(2007)   \n\n                         Genres Ratings  \n0        Action, Drama, Romance     5.7  \n1     Action, Adventure, Family     5.1  \n2     Action, Adventure, Comedy     6.9  \n3          Action, Crime, Drama     6.9  \n4      Animation, Action, Drama     7.6  \n5        Action, Drama, Romance     7.1  \n6      Action, Sci-Fi, Thriller     6.1  \n7     Action, Adventure, Comedy     4.8  \n8          Action, Crime, Drama     5.6  \n9         Action, Comedy, Crime     5.9  \n10      Action, Comedy, Fantasy     6.8  \n11         Action, Crime, Drama     7.1  \n12        Action, Comedy, Drama     7.7  \n13      Action, Drama, Thriller     5.7  \n14                Action, Drama     8.2  \n15      Action, Comedy, Romance     5.4  \n16    Action, Adventure, Sci-Fi     5.2  \n17       Action, Drama, Fantasy     4.8  \n18     Action, Adventure, Crime     6.0  \n19        Action, Comedy, Crime     5.5  \n20       Action, Drama, Romance     8.0  \n21      Action, Drama, Thriller     8.1  \n22  Action, Adventure, Thriller     6.2  \n23        Action, Sci-Fi, Sport     6.6  \n24       Action, Comedy, Sci-Fi     3.8  \n25       Action, Drama, History     7.9  \n26    Action, Adventure, Comedy     3.5  \n27        Action, Comedy, Crime     7.0  \n28        Action, Comedy, Crime     7.1  \n29      Action, Drama, Thriller     6.7  \n30               Action, Sci-Fi     5.9  \n31        Action, Comedy, Drama     4.7  \n32     Action, Adventure, Drama     6.5  \n33        Action, Comedy, Crime     6.1  \n34   Action, Adventure, Mystery     5.2  \n35     Action, Fantasy, Western     6.2  \n36    Action, Adventure, Comedy     5.6  \n37       Action, Comedy, Horror     5.7  \n38     Action, Adventure, Drama     5.6  \n39        Action, Comedy, Crime     2.5  \n40         Action, Crime, Drama     5.7  \n41        Action, Comedy, Drama     5.3  \n42             Action, Thriller     5.6  \n43      Action, Horror, Mystery     6.1  \n44       Action, Drama, Romance     6.8  \n45         Action, Crime, Drama     6.2  \n46             Action, Thriller     6.9  \n47  Action, Adventure, Thriller     6.4  \n48     Action, Adventure, Drama     7.4  \n49     Action, Adventure, Drama     7.0  ",
      "text/html": "<div>\n<style scoped>\n    .dataframe tbody tr th:only-of-type {\n        vertical-align: middle;\n    }\n\n    .dataframe tbody tr th {\n        vertical-align: top;\n    }\n\n    .dataframe thead th {\n        text-align: right;\n    }\n</style>\n<table border=\"1\" class=\"dataframe\">\n  <thead>\n    <tr style=\"text-align: right;\">\n      <th></th>\n      <th>Top_Titles</th>\n      <th>Genres</th>\n      <th>Ratings</th>\n    </tr>\n  </thead>\n  <tbody>\n    <tr>\n      <th>0</th>\n      <td>Nowhere to Run(1993)</td>\n      <td>Action, Drama, Romance</td>\n      <td>5.7</td>\n    </tr>\n    <tr>\n      <th>1</th>\n      <td>Stormbreaker(2006)</td>\n      <td>Action, Adventure, Family</td>\n      <td>5.1</td>\n    </tr>\n    <tr>\n      <th>2</th>\n      <td>Muppet Treasure Island(1996)</td>\n      <td>Action, Adventure, Comedy</td>\n      <td>6.9</td>\n    </tr>\n    <tr>\n      <th>3</th>\n      <td>Agneepath(2012)</td>\n      <td>Action, Crime, Drama</td>\n      <td>6.9</td>\n    </tr>\n    <tr>\n      <th>4</th>\n      <td>Evangelion Shin Gekijôban: Jo(2007)</td>\n      <td>Animation, Action, Drama</td>\n      <td>7.6</td>\n    </tr>\n    <tr>\n      <th>5</th>\n      <td>Koi... Mil Gaya(2003)</td>\n      <td>Action, Drama, Romance</td>\n      <td>7.1</td>\n    </tr>\n    <tr>\n      <th>6</th>\n      <td>2.0(2018)</td>\n      <td>Action, Sci-Fi, Thriller</td>\n      <td>6.1</td>\n    </tr>\n    <tr>\n      <th>7</th>\n      <td>Crocodile Dundee in Los Angeles(2001)</td>\n      <td>Action, Adventure, Comedy</td>\n      <td>4.8</td>\n    </tr>\n    <tr>\n      <th>8</th>\n      <td>The Contract(2006)</td>\n      <td>Action, Crime, Drama</td>\n      <td>5.6</td>\n    </tr>\n    <tr>\n      <th>9</th>\n      <td>Men at Work(1990)</td>\n      <td>Action, Comedy, Crime</td>\n      <td>5.9</td>\n    </tr>\n    <tr>\n      <th>10</th>\n      <td>Død snø 2(2014)</td>\n      <td>Action, Comedy, Fantasy</td>\n      <td>6.8</td>\n    </tr>\n    <tr>\n      <th>11</th>\n      <td>Gabbar Is Back(2015)</td>\n      <td>Action, Crime, Drama</td>\n      <td>7.1</td>\n    </tr>\n    <tr>\n      <th>12</th>\n      <td>Eega(2012)</td>\n      <td>Action, Comedy, Drama</td>\n      <td>7.7</td>\n    </tr>\n    <tr>\n      <th>13</th>\n      <td>Close(I) (2019)</td>\n      <td>Action, Drama, Thriller</td>\n      <td>5.7</td>\n    </tr>\n    <tr>\n      <th>14</th>\n      <td>Rangasthalam(2018)</td>\n      <td>Action, Drama</td>\n      <td>8.2</td>\n    </tr>\n    <tr>\n      <th>15</th>\n      <td>Shotgun Wedding(2022)</td>\n      <td>Action, Comedy, Romance</td>\n      <td>5.4</td>\n    </tr>\n    <tr>\n      <th>16</th>\n      <td>Universal Soldier: Regeneration(2009)</td>\n      <td>Action, Adventure, Sci-Fi</td>\n      <td>5.2</td>\n    </tr>\n    <tr>\n      <th>17</th>\n      <td>Godsend(2004)</td>\n      <td>Action, Drama, Fantasy</td>\n      <td>4.8</td>\n    </tr>\n    <tr>\n      <th>18</th>\n      <td>The Shadow(1994)</td>\n      <td>Action, Adventure, Crime</td>\n      <td>6.0</td>\n    </tr>\n    <tr>\n      <th>19</th>\n      <td>The Man(2005)</td>\n      <td>Action, Comedy, Crime</td>\n      <td>5.5</td>\n    </tr>\n    <tr>\n      <th>20</th>\n      <td>Arjun Reddy(2017)</td>\n      <td>Action, Drama, Romance</td>\n      <td>8.0</td>\n    </tr>\n    <tr>\n      <th>21</th>\n      <td>Sarfarosh(1999)</td>\n      <td>Action, Drama, Thriller</td>\n      <td>8.1</td>\n    </tr>\n    <tr>\n      <th>22</th>\n      <td>Thunivu(2023)</td>\n      <td>Action, Adventure, Thriller</td>\n      <td>6.2</td>\n    </tr>\n    <tr>\n      <th>23</th>\n      <td>Rollerball(1975)</td>\n      <td>Action, Sci-Fi, Sport</td>\n      <td>6.6</td>\n    </tr>\n    <tr>\n      <th>24</th>\n      <td>The Adventures of Pluto Nash(2002)</td>\n      <td>Action, Comedy, Sci-Fi</td>\n      <td>3.8</td>\n    </tr>\n    <tr>\n      <th>25</th>\n      <td>Taeksi woonjunsa(2017)</td>\n      <td>Action, Drama, History</td>\n      <td>7.9</td>\n    </tr>\n    <tr>\n      <th>26</th>\n      <td>Spy Kids 4: All the Time in the World(2011)</td>\n      <td>Action, Adventure, Comedy</td>\n      <td>3.5</td>\n    </tr>\n    <tr>\n      <th>27</th>\n      <td>Thunderbolt and Lightfoot(1974)</td>\n      <td>Action, Comedy, Crime</td>\n      <td>7.0</td>\n    </tr>\n    <tr>\n      <th>28</th>\n      <td>An Action Hero(2022)</td>\n      <td>Action, Comedy, Crime</td>\n      <td>7.1</td>\n    </tr>\n    <tr>\n      <th>29</th>\n      <td>Hamburger Hill(1987)</td>\n      <td>Action, Drama, Thriller</td>\n      <td>6.7</td>\n    </tr>\n    <tr>\n      <th>30</th>\n      <td>The Black Hole(1979)</td>\n      <td>Action, Sci-Fi</td>\n      <td>5.9</td>\n    </tr>\n    <tr>\n      <th>31</th>\n      <td>Bodyguard(I) (2011)</td>\n      <td>Action, Comedy, Drama</td>\n      <td>4.7</td>\n    </tr>\n    <tr>\n      <th>32</th>\n      <td>Seungriho(2021)</td>\n      <td>Action, Adventure, Drama</td>\n      <td>6.5</td>\n    </tr>\n    <tr>\n      <th>33</th>\n      <td>The Lovebirds(2020)</td>\n      <td>Action, Comedy, Crime</td>\n      <td>6.1</td>\n    </tr>\n    <tr>\n      <th>34</th>\n      <td>Mutant Chronicles(2008)</td>\n      <td>Action, Adventure, Mystery</td>\n      <td>5.2</td>\n    </tr>\n    <tr>\n      <th>35</th>\n      <td>The Warrior's Way(2010)</td>\n      <td>Action, Fantasy, Western</td>\n      <td>6.2</td>\n    </tr>\n    <tr>\n      <th>36</th>\n      <td>Jay and Silent Bob Reboot(2019)</td>\n      <td>Action, Adventure, Comedy</td>\n      <td>5.6</td>\n    </tr>\n    <tr>\n      <th>37</th>\n      <td>Cooties(2014)</td>\n      <td>Action, Comedy, Horror</td>\n      <td>5.7</td>\n    </tr>\n    <tr>\n      <th>38</th>\n      <td>The Quest(1996)</td>\n      <td>Action, Adventure, Drama</td>\n      <td>5.6</td>\n    </tr>\n    <tr>\n      <th>39</th>\n      <td>Heropanti 2(2022)</td>\n      <td>Action, Comedy, Crime</td>\n      <td>2.5</td>\n    </tr>\n    <tr>\n      <th>40</th>\n      <td>Beckett(2021)</td>\n      <td>Action, Crime, Drama</td>\n      <td>5.7</td>\n    </tr>\n    <tr>\n      <th>41</th>\n      <td>Shehzada(2023)</td>\n      <td>Action, Comedy, Drama</td>\n      <td>5.3</td>\n    </tr>\n    <tr>\n      <th>42</th>\n      <td>Fire with Fire(II) (2012)</td>\n      <td>Action, Thriller</td>\n      <td>5.6</td>\n    </tr>\n    <tr>\n      <th>43</th>\n      <td>Lifeforce(1985)</td>\n      <td>Action, Horror, Mystery</td>\n      <td>6.1</td>\n    </tr>\n    <tr>\n      <th>44</th>\n      <td>Tres metros sobre el cielo(2010)</td>\n      <td>Action, Drama, Romance</td>\n      <td>6.8</td>\n    </tr>\n    <tr>\n      <th>45</th>\n      <td>The Outsider(I) (2018)</td>\n      <td>Action, Crime, Drama</td>\n      <td>6.2</td>\n    </tr>\n    <tr>\n      <th>46</th>\n      <td>The Night Comes for Us(2018)</td>\n      <td>Action, Thriller</td>\n      <td>6.9</td>\n    </tr>\n    <tr>\n      <th>47</th>\n      <td>Way Down(2021)</td>\n      <td>Action, Adventure, Thriller</td>\n      <td>6.4</td>\n    </tr>\n    <tr>\n      <th>48</th>\n      <td>Rurôni Kenshin: Meiji kenkaku roman tan(2012)</td>\n      <td>Action, Adventure, Drama</td>\n      <td>7.4</td>\n    </tr>\n    <tr>\n      <th>49</th>\n      <td>Tau ming chong(2007)</td>\n      <td>Action, Adventure, Drama</td>\n      <td>7.0</td>\n    </tr>\n  </tbody>\n</table>\n</div>"
     },
     "execution_count": 105,
     "metadata": {},
     "output_type": "execute_result"
    }
   ],
   "source": [
    "df_top_titles\n"
   ],
   "metadata": {
    "collapsed": false
   }
  },
  {
   "cell_type": "code",
   "execution_count": 106,
   "outputs": [],
   "source": [
    "df_top_titles.set_index('Top_Titles', inplace=True)\n"
   ],
   "metadata": {
    "collapsed": false
   }
  },
  {
   "cell_type": "code",
   "execution_count": 107,
   "outputs": [
    {
     "data": {
      "text/plain": "                                                                    Genres  \\\nTop_Titles                                                                   \nNowhere to Run(1993)                                Action, Drama, Romance   \nStormbreaker(2006)                               Action, Adventure, Family   \nMuppet Treasure Island(1996)                     Action, Adventure, Comedy   \nAgneepath(2012)                                       Action, Crime, Drama   \nEvangelion Shin Gekijôban: Jo(2007)               Animation, Action, Drama   \nKoi... Mil Gaya(2003)                               Action, Drama, Romance   \n2.0(2018)                                         Action, Sci-Fi, Thriller   \nCrocodile Dundee in Los Angeles(2001)            Action, Adventure, Comedy   \nThe Contract(2006)                                    Action, Crime, Drama   \nMen at Work(1990)                                    Action, Comedy, Crime   \nDød snø 2(2014)                                    Action, Comedy, Fantasy   \nGabbar Is Back(2015)                                  Action, Crime, Drama   \nEega(2012)                                           Action, Comedy, Drama   \nClose(I) (2019)                                    Action, Drama, Thriller   \nRangasthalam(2018)                                           Action, Drama   \nShotgun Wedding(2022)                              Action, Comedy, Romance   \nUniversal Soldier: Regeneration(2009)            Action, Adventure, Sci-Fi   \nGodsend(2004)                                       Action, Drama, Fantasy   \nThe Shadow(1994)                                  Action, Adventure, Crime   \nThe Man(2005)                                        Action, Comedy, Crime   \nArjun Reddy(2017)                                   Action, Drama, Romance   \nSarfarosh(1999)                                    Action, Drama, Thriller   \nThunivu(2023)                                  Action, Adventure, Thriller   \nRollerball(1975)                                     Action, Sci-Fi, Sport   \nThe Adventures of Pluto Nash(2002)                  Action, Comedy, Sci-Fi   \nTaeksi woonjunsa(2017)                              Action, Drama, History   \nSpy Kids 4: All the Time in the World(2011)      Action, Adventure, Comedy   \nThunderbolt and Lightfoot(1974)                      Action, Comedy, Crime   \nAn Action Hero(2022)                                 Action, Comedy, Crime   \nHamburger Hill(1987)                               Action, Drama, Thriller   \nThe Black Hole(1979)                                        Action, Sci-Fi   \nBodyguard(I) (2011)                                  Action, Comedy, Drama   \nSeungriho(2021)                                   Action, Adventure, Drama   \nThe Lovebirds(2020)                                  Action, Comedy, Crime   \nMutant Chronicles(2008)                         Action, Adventure, Mystery   \nThe Warrior's Way(2010)                           Action, Fantasy, Western   \nJay and Silent Bob Reboot(2019)                  Action, Adventure, Comedy   \nCooties(2014)                                       Action, Comedy, Horror   \nThe Quest(1996)                                   Action, Adventure, Drama   \nHeropanti 2(2022)                                    Action, Comedy, Crime   \nBeckett(2021)                                         Action, Crime, Drama   \nShehzada(2023)                                       Action, Comedy, Drama   \nFire with Fire(II) (2012)                                 Action, Thriller   \nLifeforce(1985)                                    Action, Horror, Mystery   \nTres metros sobre el cielo(2010)                    Action, Drama, Romance   \nThe Outsider(I) (2018)                                Action, Crime, Drama   \nThe Night Comes for Us(2018)                              Action, Thriller   \nWay Down(2021)                                 Action, Adventure, Thriller   \nRurôni Kenshin: Meiji kenkaku roman tan(2012)     Action, Adventure, Drama   \nTau ming chong(2007)                              Action, Adventure, Drama   \n\n                                              Ratings  \nTop_Titles                                             \nNowhere to Run(1993)                              5.7  \nStormbreaker(2006)                                5.1  \nMuppet Treasure Island(1996)                      6.9  \nAgneepath(2012)                                   6.9  \nEvangelion Shin Gekijôban: Jo(2007)               7.6  \nKoi... Mil Gaya(2003)                             7.1  \n2.0(2018)                                         6.1  \nCrocodile Dundee in Los Angeles(2001)             4.8  \nThe Contract(2006)                                5.6  \nMen at Work(1990)                                 5.9  \nDød snø 2(2014)                                   6.8  \nGabbar Is Back(2015)                              7.1  \nEega(2012)                                        7.7  \nClose(I) (2019)                                   5.7  \nRangasthalam(2018)                                8.2  \nShotgun Wedding(2022)                             5.4  \nUniversal Soldier: Regeneration(2009)             5.2  \nGodsend(2004)                                     4.8  \nThe Shadow(1994)                                  6.0  \nThe Man(2005)                                     5.5  \nArjun Reddy(2017)                                 8.0  \nSarfarosh(1999)                                   8.1  \nThunivu(2023)                                     6.2  \nRollerball(1975)                                  6.6  \nThe Adventures of Pluto Nash(2002)                3.8  \nTaeksi woonjunsa(2017)                            7.9  \nSpy Kids 4: All the Time in the World(2011)       3.5  \nThunderbolt and Lightfoot(1974)                   7.0  \nAn Action Hero(2022)                              7.1  \nHamburger Hill(1987)                              6.7  \nThe Black Hole(1979)                              5.9  \nBodyguard(I) (2011)                               4.7  \nSeungriho(2021)                                   6.5  \nThe Lovebirds(2020)                               6.1  \nMutant Chronicles(2008)                           5.2  \nThe Warrior's Way(2010)                           6.2  \nJay and Silent Bob Reboot(2019)                   5.6  \nCooties(2014)                                     5.7  \nThe Quest(1996)                                   5.6  \nHeropanti 2(2022)                                 2.5  \nBeckett(2021)                                     5.7  \nShehzada(2023)                                    5.3  \nFire with Fire(II) (2012)                         5.6  \nLifeforce(1985)                                   6.1  \nTres metros sobre el cielo(2010)                  6.8  \nThe Outsider(I) (2018)                            6.2  \nThe Night Comes for Us(2018)                      6.9  \nWay Down(2021)                                    6.4  \nRurôni Kenshin: Meiji kenkaku roman tan(2012)     7.4  \nTau ming chong(2007)                              7.0  ",
      "text/html": "<div>\n<style scoped>\n    .dataframe tbody tr th:only-of-type {\n        vertical-align: middle;\n    }\n\n    .dataframe tbody tr th {\n        vertical-align: top;\n    }\n\n    .dataframe thead th {\n        text-align: right;\n    }\n</style>\n<table border=\"1\" class=\"dataframe\">\n  <thead>\n    <tr style=\"text-align: right;\">\n      <th></th>\n      <th>Genres</th>\n      <th>Ratings</th>\n    </tr>\n    <tr>\n      <th>Top_Titles</th>\n      <th></th>\n      <th></th>\n    </tr>\n  </thead>\n  <tbody>\n    <tr>\n      <th>Nowhere to Run(1993)</th>\n      <td>Action, Drama, Romance</td>\n      <td>5.7</td>\n    </tr>\n    <tr>\n      <th>Stormbreaker(2006)</th>\n      <td>Action, Adventure, Family</td>\n      <td>5.1</td>\n    </tr>\n    <tr>\n      <th>Muppet Treasure Island(1996)</th>\n      <td>Action, Adventure, Comedy</td>\n      <td>6.9</td>\n    </tr>\n    <tr>\n      <th>Agneepath(2012)</th>\n      <td>Action, Crime, Drama</td>\n      <td>6.9</td>\n    </tr>\n    <tr>\n      <th>Evangelion Shin Gekijôban: Jo(2007)</th>\n      <td>Animation, Action, Drama</td>\n      <td>7.6</td>\n    </tr>\n    <tr>\n      <th>Koi... Mil Gaya(2003)</th>\n      <td>Action, Drama, Romance</td>\n      <td>7.1</td>\n    </tr>\n    <tr>\n      <th>2.0(2018)</th>\n      <td>Action, Sci-Fi, Thriller</td>\n      <td>6.1</td>\n    </tr>\n    <tr>\n      <th>Crocodile Dundee in Los Angeles(2001)</th>\n      <td>Action, Adventure, Comedy</td>\n      <td>4.8</td>\n    </tr>\n    <tr>\n      <th>The Contract(2006)</th>\n      <td>Action, Crime, Drama</td>\n      <td>5.6</td>\n    </tr>\n    <tr>\n      <th>Men at Work(1990)</th>\n      <td>Action, Comedy, Crime</td>\n      <td>5.9</td>\n    </tr>\n    <tr>\n      <th>Død snø 2(2014)</th>\n      <td>Action, Comedy, Fantasy</td>\n      <td>6.8</td>\n    </tr>\n    <tr>\n      <th>Gabbar Is Back(2015)</th>\n      <td>Action, Crime, Drama</td>\n      <td>7.1</td>\n    </tr>\n    <tr>\n      <th>Eega(2012)</th>\n      <td>Action, Comedy, Drama</td>\n      <td>7.7</td>\n    </tr>\n    <tr>\n      <th>Close(I) (2019)</th>\n      <td>Action, Drama, Thriller</td>\n      <td>5.7</td>\n    </tr>\n    <tr>\n      <th>Rangasthalam(2018)</th>\n      <td>Action, Drama</td>\n      <td>8.2</td>\n    </tr>\n    <tr>\n      <th>Shotgun Wedding(2022)</th>\n      <td>Action, Comedy, Romance</td>\n      <td>5.4</td>\n    </tr>\n    <tr>\n      <th>Universal Soldier: Regeneration(2009)</th>\n      <td>Action, Adventure, Sci-Fi</td>\n      <td>5.2</td>\n    </tr>\n    <tr>\n      <th>Godsend(2004)</th>\n      <td>Action, Drama, Fantasy</td>\n      <td>4.8</td>\n    </tr>\n    <tr>\n      <th>The Shadow(1994)</th>\n      <td>Action, Adventure, Crime</td>\n      <td>6.0</td>\n    </tr>\n    <tr>\n      <th>The Man(2005)</th>\n      <td>Action, Comedy, Crime</td>\n      <td>5.5</td>\n    </tr>\n    <tr>\n      <th>Arjun Reddy(2017)</th>\n      <td>Action, Drama, Romance</td>\n      <td>8.0</td>\n    </tr>\n    <tr>\n      <th>Sarfarosh(1999)</th>\n      <td>Action, Drama, Thriller</td>\n      <td>8.1</td>\n    </tr>\n    <tr>\n      <th>Thunivu(2023)</th>\n      <td>Action, Adventure, Thriller</td>\n      <td>6.2</td>\n    </tr>\n    <tr>\n      <th>Rollerball(1975)</th>\n      <td>Action, Sci-Fi, Sport</td>\n      <td>6.6</td>\n    </tr>\n    <tr>\n      <th>The Adventures of Pluto Nash(2002)</th>\n      <td>Action, Comedy, Sci-Fi</td>\n      <td>3.8</td>\n    </tr>\n    <tr>\n      <th>Taeksi woonjunsa(2017)</th>\n      <td>Action, Drama, History</td>\n      <td>7.9</td>\n    </tr>\n    <tr>\n      <th>Spy Kids 4: All the Time in the World(2011)</th>\n      <td>Action, Adventure, Comedy</td>\n      <td>3.5</td>\n    </tr>\n    <tr>\n      <th>Thunderbolt and Lightfoot(1974)</th>\n      <td>Action, Comedy, Crime</td>\n      <td>7.0</td>\n    </tr>\n    <tr>\n      <th>An Action Hero(2022)</th>\n      <td>Action, Comedy, Crime</td>\n      <td>7.1</td>\n    </tr>\n    <tr>\n      <th>Hamburger Hill(1987)</th>\n      <td>Action, Drama, Thriller</td>\n      <td>6.7</td>\n    </tr>\n    <tr>\n      <th>The Black Hole(1979)</th>\n      <td>Action, Sci-Fi</td>\n      <td>5.9</td>\n    </tr>\n    <tr>\n      <th>Bodyguard(I) (2011)</th>\n      <td>Action, Comedy, Drama</td>\n      <td>4.7</td>\n    </tr>\n    <tr>\n      <th>Seungriho(2021)</th>\n      <td>Action, Adventure, Drama</td>\n      <td>6.5</td>\n    </tr>\n    <tr>\n      <th>The Lovebirds(2020)</th>\n      <td>Action, Comedy, Crime</td>\n      <td>6.1</td>\n    </tr>\n    <tr>\n      <th>Mutant Chronicles(2008)</th>\n      <td>Action, Adventure, Mystery</td>\n      <td>5.2</td>\n    </tr>\n    <tr>\n      <th>The Warrior's Way(2010)</th>\n      <td>Action, Fantasy, Western</td>\n      <td>6.2</td>\n    </tr>\n    <tr>\n      <th>Jay and Silent Bob Reboot(2019)</th>\n      <td>Action, Adventure, Comedy</td>\n      <td>5.6</td>\n    </tr>\n    <tr>\n      <th>Cooties(2014)</th>\n      <td>Action, Comedy, Horror</td>\n      <td>5.7</td>\n    </tr>\n    <tr>\n      <th>The Quest(1996)</th>\n      <td>Action, Adventure, Drama</td>\n      <td>5.6</td>\n    </tr>\n    <tr>\n      <th>Heropanti 2(2022)</th>\n      <td>Action, Comedy, Crime</td>\n      <td>2.5</td>\n    </tr>\n    <tr>\n      <th>Beckett(2021)</th>\n      <td>Action, Crime, Drama</td>\n      <td>5.7</td>\n    </tr>\n    <tr>\n      <th>Shehzada(2023)</th>\n      <td>Action, Comedy, Drama</td>\n      <td>5.3</td>\n    </tr>\n    <tr>\n      <th>Fire with Fire(II) (2012)</th>\n      <td>Action, Thriller</td>\n      <td>5.6</td>\n    </tr>\n    <tr>\n      <th>Lifeforce(1985)</th>\n      <td>Action, Horror, Mystery</td>\n      <td>6.1</td>\n    </tr>\n    <tr>\n      <th>Tres metros sobre el cielo(2010)</th>\n      <td>Action, Drama, Romance</td>\n      <td>6.8</td>\n    </tr>\n    <tr>\n      <th>The Outsider(I) (2018)</th>\n      <td>Action, Crime, Drama</td>\n      <td>6.2</td>\n    </tr>\n    <tr>\n      <th>The Night Comes for Us(2018)</th>\n      <td>Action, Thriller</td>\n      <td>6.9</td>\n    </tr>\n    <tr>\n      <th>Way Down(2021)</th>\n      <td>Action, Adventure, Thriller</td>\n      <td>6.4</td>\n    </tr>\n    <tr>\n      <th>Rurôni Kenshin: Meiji kenkaku roman tan(2012)</th>\n      <td>Action, Adventure, Drama</td>\n      <td>7.4</td>\n    </tr>\n    <tr>\n      <th>Tau ming chong(2007)</th>\n      <td>Action, Adventure, Drama</td>\n      <td>7.0</td>\n    </tr>\n  </tbody>\n</table>\n</div>"
     },
     "execution_count": 107,
     "metadata": {},
     "output_type": "execute_result"
    }
   ],
   "source": [
    "df_top_titles\n"
   ],
   "metadata": {
    "collapsed": false
   }
  },
  {
   "cell_type": "code",
   "execution_count": 108,
   "outputs": [],
   "source": [
    "votes = soup.find_all('span', {'name': 'nv'})\n"
   ],
   "metadata": {
    "collapsed": false
   }
  },
  {
   "cell_type": "code",
   "execution_count": 109,
   "outputs": [],
   "source": [
    "votes_list = []\n",
    "for value in votes:\n",
    "    v = str(value.text.strip().replace(',', ''))\n",
    "    if v.isnumeric():\n",
    "        votes_list.append(v)\n"
   ],
   "metadata": {
    "collapsed": false
   }
  },
  {
   "cell_type": "code",
   "execution_count": 110,
   "outputs": [],
   "source": [
    "df_votes_list = pd.DataFrame(votes_list)\n"
   ],
   "metadata": {
    "collapsed": false
   }
  },
  {
   "cell_type": "code",
   "execution_count": 111,
   "outputs": [],
   "source": [
    "df_votes_list['Titles'] = top_titles_list2\n"
   ],
   "metadata": {
    "collapsed": false
   }
  },
  {
   "cell_type": "code",
   "execution_count": 112,
   "outputs": [],
   "source": [
    "df_votes_list.set_index('Titles', inplace=True)\n"
   ],
   "metadata": {
    "collapsed": false
   }
  },
  {
   "cell_type": "code",
   "execution_count": 113,
   "outputs": [
    {
     "data": {
      "text/plain": "                                                    0\nTitles                                               \nNowhere to Run(1993)                            25019\nStormbreaker(2006)                              25027\nMuppet Treasure Island(1996)                    25045\nAgneepath(2012)                                 25175\nEvangelion Shin Gekijôban: Jo(2007)             25180\nKoi... Mil Gaya(2003)                           25205\n2.0(2018)                                       25387\nCrocodile Dundee in Los Angeles(2001)           25411\nThe Contract(2006)                              25419\n.Men at Work(1990)                              25481\n.Død snø 2(2014)                                25537\n.Gabbar Is Back(2015)                           25586\n.Eega(2012)                                     25612\n.Close(I) (2019)                                25617\n.Rangasthalam(2018)                             25656\n.Shotgun Wedding(2022)                          25703\n.Universal Soldier: Regeneration(2009)          25931\n.Godsend(2004)                                  25975\n.The Shadow(1994)                               26032\n.The Man(2005)                                  26071\n.Arjun Reddy(2017)                              26073\n.Sarfarosh(1999)                                26095\n.Thunivu(2023)                                  26193\n.Rollerball(1975)                               26254\n.The Adventures of Pluto Nash(2002)             26298\n.Taeksi woonjunsa(2017)                         26341\n.Spy Kids 4: All the Time in the World(2011)    26376\n.Thunderbolt and Lightfoot(1974)                26396\n.An Action Hero(2022)                           26461\n.Hamburger Hill(1987)                           26461\n.The Black Hole(1979)                           26483\n.Bodyguard(I) (2011)                            26595\n.Seungriho(2021)                                26630\n.The Lovebirds(2020)                            26688\n.Mutant Chronicles(2008)                        26694\n.The Warrior's Way(2010)                        26697\n.Jay and Silent Bob Reboot(2019)                26726\n.Cooties(2014)                                  26768\n.The Quest(1996)                                26777\n.Heropanti 2(2022)                              26861\n.Beckett(2021)                                  26873\n.Shehzada(2023)                                 26897\n.Fire with Fire(II) (2012)                      26967\n.Lifeforce(1985)                                27010\n.Tres metros sobre el cielo(2010)               27017\n.The Outsider(I) (2018)                         27046\n.The Night Comes for Us(2018)                   27161\n.Way Down(2021)                                 27188\n.Rurôni Kenshin: Meiji kenkaku roman tan(2012)  27221\n.Tau ming chong(2007)                           27233",
      "text/html": "<div>\n<style scoped>\n    .dataframe tbody tr th:only-of-type {\n        vertical-align: middle;\n    }\n\n    .dataframe tbody tr th {\n        vertical-align: top;\n    }\n\n    .dataframe thead th {\n        text-align: right;\n    }\n</style>\n<table border=\"1\" class=\"dataframe\">\n  <thead>\n    <tr style=\"text-align: right;\">\n      <th></th>\n      <th>0</th>\n    </tr>\n    <tr>\n      <th>Titles</th>\n      <th></th>\n    </tr>\n  </thead>\n  <tbody>\n    <tr>\n      <th>Nowhere to Run(1993)</th>\n      <td>25019</td>\n    </tr>\n    <tr>\n      <th>Stormbreaker(2006)</th>\n      <td>25027</td>\n    </tr>\n    <tr>\n      <th>Muppet Treasure Island(1996)</th>\n      <td>25045</td>\n    </tr>\n    <tr>\n      <th>Agneepath(2012)</th>\n      <td>25175</td>\n    </tr>\n    <tr>\n      <th>Evangelion Shin Gekijôban: Jo(2007)</th>\n      <td>25180</td>\n    </tr>\n    <tr>\n      <th>Koi... Mil Gaya(2003)</th>\n      <td>25205</td>\n    </tr>\n    <tr>\n      <th>2.0(2018)</th>\n      <td>25387</td>\n    </tr>\n    <tr>\n      <th>Crocodile Dundee in Los Angeles(2001)</th>\n      <td>25411</td>\n    </tr>\n    <tr>\n      <th>The Contract(2006)</th>\n      <td>25419</td>\n    </tr>\n    <tr>\n      <th>.Men at Work(1990)</th>\n      <td>25481</td>\n    </tr>\n    <tr>\n      <th>.Død snø 2(2014)</th>\n      <td>25537</td>\n    </tr>\n    <tr>\n      <th>.Gabbar Is Back(2015)</th>\n      <td>25586</td>\n    </tr>\n    <tr>\n      <th>.Eega(2012)</th>\n      <td>25612</td>\n    </tr>\n    <tr>\n      <th>.Close(I) (2019)</th>\n      <td>25617</td>\n    </tr>\n    <tr>\n      <th>.Rangasthalam(2018)</th>\n      <td>25656</td>\n    </tr>\n    <tr>\n      <th>.Shotgun Wedding(2022)</th>\n      <td>25703</td>\n    </tr>\n    <tr>\n      <th>.Universal Soldier: Regeneration(2009)</th>\n      <td>25931</td>\n    </tr>\n    <tr>\n      <th>.Godsend(2004)</th>\n      <td>25975</td>\n    </tr>\n    <tr>\n      <th>.The Shadow(1994)</th>\n      <td>26032</td>\n    </tr>\n    <tr>\n      <th>.The Man(2005)</th>\n      <td>26071</td>\n    </tr>\n    <tr>\n      <th>.Arjun Reddy(2017)</th>\n      <td>26073</td>\n    </tr>\n    <tr>\n      <th>.Sarfarosh(1999)</th>\n      <td>26095</td>\n    </tr>\n    <tr>\n      <th>.Thunivu(2023)</th>\n      <td>26193</td>\n    </tr>\n    <tr>\n      <th>.Rollerball(1975)</th>\n      <td>26254</td>\n    </tr>\n    <tr>\n      <th>.The Adventures of Pluto Nash(2002)</th>\n      <td>26298</td>\n    </tr>\n    <tr>\n      <th>.Taeksi woonjunsa(2017)</th>\n      <td>26341</td>\n    </tr>\n    <tr>\n      <th>.Spy Kids 4: All the Time in the World(2011)</th>\n      <td>26376</td>\n    </tr>\n    <tr>\n      <th>.Thunderbolt and Lightfoot(1974)</th>\n      <td>26396</td>\n    </tr>\n    <tr>\n      <th>.An Action Hero(2022)</th>\n      <td>26461</td>\n    </tr>\n    <tr>\n      <th>.Hamburger Hill(1987)</th>\n      <td>26461</td>\n    </tr>\n    <tr>\n      <th>.The Black Hole(1979)</th>\n      <td>26483</td>\n    </tr>\n    <tr>\n      <th>.Bodyguard(I) (2011)</th>\n      <td>26595</td>\n    </tr>\n    <tr>\n      <th>.Seungriho(2021)</th>\n      <td>26630</td>\n    </tr>\n    <tr>\n      <th>.The Lovebirds(2020)</th>\n      <td>26688</td>\n    </tr>\n    <tr>\n      <th>.Mutant Chronicles(2008)</th>\n      <td>26694</td>\n    </tr>\n    <tr>\n      <th>.The Warrior's Way(2010)</th>\n      <td>26697</td>\n    </tr>\n    <tr>\n      <th>.Jay and Silent Bob Reboot(2019)</th>\n      <td>26726</td>\n    </tr>\n    <tr>\n      <th>.Cooties(2014)</th>\n      <td>26768</td>\n    </tr>\n    <tr>\n      <th>.The Quest(1996)</th>\n      <td>26777</td>\n    </tr>\n    <tr>\n      <th>.Heropanti 2(2022)</th>\n      <td>26861</td>\n    </tr>\n    <tr>\n      <th>.Beckett(2021)</th>\n      <td>26873</td>\n    </tr>\n    <tr>\n      <th>.Shehzada(2023)</th>\n      <td>26897</td>\n    </tr>\n    <tr>\n      <th>.Fire with Fire(II) (2012)</th>\n      <td>26967</td>\n    </tr>\n    <tr>\n      <th>.Lifeforce(1985)</th>\n      <td>27010</td>\n    </tr>\n    <tr>\n      <th>.Tres metros sobre el cielo(2010)</th>\n      <td>27017</td>\n    </tr>\n    <tr>\n      <th>.The Outsider(I) (2018)</th>\n      <td>27046</td>\n    </tr>\n    <tr>\n      <th>.The Night Comes for Us(2018)</th>\n      <td>27161</td>\n    </tr>\n    <tr>\n      <th>.Way Down(2021)</th>\n      <td>27188</td>\n    </tr>\n    <tr>\n      <th>.Rurôni Kenshin: Meiji kenkaku roman tan(2012)</th>\n      <td>27221</td>\n    </tr>\n    <tr>\n      <th>.Tau ming chong(2007)</th>\n      <td>27233</td>\n    </tr>\n  </tbody>\n</table>\n</div>"
     },
     "execution_count": 113,
     "metadata": {},
     "output_type": "execute_result"
    }
   ],
   "source": [
    "df_votes_list\n"
   ],
   "metadata": {
    "collapsed": false
   }
  },
  {
   "cell_type": "code",
   "execution_count": 114,
   "outputs": [],
   "source": [
    "df_votes_list.rename(columns={0: 'Votes'}, inplace=True)\n"
   ],
   "metadata": {
    "collapsed": false
   }
  },
  {
   "cell_type": "code",
   "execution_count": 115,
   "outputs": [
    {
     "data": {
      "text/plain": "                                                Votes\nTitles                                               \nNowhere to Run(1993)                            25019\nStormbreaker(2006)                              25027\nMuppet Treasure Island(1996)                    25045\nAgneepath(2012)                                 25175\nEvangelion Shin Gekijôban: Jo(2007)             25180\nKoi... Mil Gaya(2003)                           25205\n2.0(2018)                                       25387\nCrocodile Dundee in Los Angeles(2001)           25411\nThe Contract(2006)                              25419\n.Men at Work(1990)                              25481\n.Død snø 2(2014)                                25537\n.Gabbar Is Back(2015)                           25586\n.Eega(2012)                                     25612\n.Close(I) (2019)                                25617\n.Rangasthalam(2018)                             25656\n.Shotgun Wedding(2022)                          25703\n.Universal Soldier: Regeneration(2009)          25931\n.Godsend(2004)                                  25975\n.The Shadow(1994)                               26032\n.The Man(2005)                                  26071\n.Arjun Reddy(2017)                              26073\n.Sarfarosh(1999)                                26095\n.Thunivu(2023)                                  26193\n.Rollerball(1975)                               26254\n.The Adventures of Pluto Nash(2002)             26298\n.Taeksi woonjunsa(2017)                         26341\n.Spy Kids 4: All the Time in the World(2011)    26376\n.Thunderbolt and Lightfoot(1974)                26396\n.An Action Hero(2022)                           26461\n.Hamburger Hill(1987)                           26461\n.The Black Hole(1979)                           26483\n.Bodyguard(I) (2011)                            26595\n.Seungriho(2021)                                26630\n.The Lovebirds(2020)                            26688\n.Mutant Chronicles(2008)                        26694\n.The Warrior's Way(2010)                        26697\n.Jay and Silent Bob Reboot(2019)                26726\n.Cooties(2014)                                  26768\n.The Quest(1996)                                26777\n.Heropanti 2(2022)                              26861\n.Beckett(2021)                                  26873\n.Shehzada(2023)                                 26897\n.Fire with Fire(II) (2012)                      26967\n.Lifeforce(1985)                                27010\n.Tres metros sobre el cielo(2010)               27017\n.The Outsider(I) (2018)                         27046\n.The Night Comes for Us(2018)                   27161\n.Way Down(2021)                                 27188\n.Rurôni Kenshin: Meiji kenkaku roman tan(2012)  27221\n.Tau ming chong(2007)                           27233",
      "text/html": "<div>\n<style scoped>\n    .dataframe tbody tr th:only-of-type {\n        vertical-align: middle;\n    }\n\n    .dataframe tbody tr th {\n        vertical-align: top;\n    }\n\n    .dataframe thead th {\n        text-align: right;\n    }\n</style>\n<table border=\"1\" class=\"dataframe\">\n  <thead>\n    <tr style=\"text-align: right;\">\n      <th></th>\n      <th>Votes</th>\n    </tr>\n    <tr>\n      <th>Titles</th>\n      <th></th>\n    </tr>\n  </thead>\n  <tbody>\n    <tr>\n      <th>Nowhere to Run(1993)</th>\n      <td>25019</td>\n    </tr>\n    <tr>\n      <th>Stormbreaker(2006)</th>\n      <td>25027</td>\n    </tr>\n    <tr>\n      <th>Muppet Treasure Island(1996)</th>\n      <td>25045</td>\n    </tr>\n    <tr>\n      <th>Agneepath(2012)</th>\n      <td>25175</td>\n    </tr>\n    <tr>\n      <th>Evangelion Shin Gekijôban: Jo(2007)</th>\n      <td>25180</td>\n    </tr>\n    <tr>\n      <th>Koi... Mil Gaya(2003)</th>\n      <td>25205</td>\n    </tr>\n    <tr>\n      <th>2.0(2018)</th>\n      <td>25387</td>\n    </tr>\n    <tr>\n      <th>Crocodile Dundee in Los Angeles(2001)</th>\n      <td>25411</td>\n    </tr>\n    <tr>\n      <th>The Contract(2006)</th>\n      <td>25419</td>\n    </tr>\n    <tr>\n      <th>.Men at Work(1990)</th>\n      <td>25481</td>\n    </tr>\n    <tr>\n      <th>.Død snø 2(2014)</th>\n      <td>25537</td>\n    </tr>\n    <tr>\n      <th>.Gabbar Is Back(2015)</th>\n      <td>25586</td>\n    </tr>\n    <tr>\n      <th>.Eega(2012)</th>\n      <td>25612</td>\n    </tr>\n    <tr>\n      <th>.Close(I) (2019)</th>\n      <td>25617</td>\n    </tr>\n    <tr>\n      <th>.Rangasthalam(2018)</th>\n      <td>25656</td>\n    </tr>\n    <tr>\n      <th>.Shotgun Wedding(2022)</th>\n      <td>25703</td>\n    </tr>\n    <tr>\n      <th>.Universal Soldier: Regeneration(2009)</th>\n      <td>25931</td>\n    </tr>\n    <tr>\n      <th>.Godsend(2004)</th>\n      <td>25975</td>\n    </tr>\n    <tr>\n      <th>.The Shadow(1994)</th>\n      <td>26032</td>\n    </tr>\n    <tr>\n      <th>.The Man(2005)</th>\n      <td>26071</td>\n    </tr>\n    <tr>\n      <th>.Arjun Reddy(2017)</th>\n      <td>26073</td>\n    </tr>\n    <tr>\n      <th>.Sarfarosh(1999)</th>\n      <td>26095</td>\n    </tr>\n    <tr>\n      <th>.Thunivu(2023)</th>\n      <td>26193</td>\n    </tr>\n    <tr>\n      <th>.Rollerball(1975)</th>\n      <td>26254</td>\n    </tr>\n    <tr>\n      <th>.The Adventures of Pluto Nash(2002)</th>\n      <td>26298</td>\n    </tr>\n    <tr>\n      <th>.Taeksi woonjunsa(2017)</th>\n      <td>26341</td>\n    </tr>\n    <tr>\n      <th>.Spy Kids 4: All the Time in the World(2011)</th>\n      <td>26376</td>\n    </tr>\n    <tr>\n      <th>.Thunderbolt and Lightfoot(1974)</th>\n      <td>26396</td>\n    </tr>\n    <tr>\n      <th>.An Action Hero(2022)</th>\n      <td>26461</td>\n    </tr>\n    <tr>\n      <th>.Hamburger Hill(1987)</th>\n      <td>26461</td>\n    </tr>\n    <tr>\n      <th>.The Black Hole(1979)</th>\n      <td>26483</td>\n    </tr>\n    <tr>\n      <th>.Bodyguard(I) (2011)</th>\n      <td>26595</td>\n    </tr>\n    <tr>\n      <th>.Seungriho(2021)</th>\n      <td>26630</td>\n    </tr>\n    <tr>\n      <th>.The Lovebirds(2020)</th>\n      <td>26688</td>\n    </tr>\n    <tr>\n      <th>.Mutant Chronicles(2008)</th>\n      <td>26694</td>\n    </tr>\n    <tr>\n      <th>.The Warrior's Way(2010)</th>\n      <td>26697</td>\n    </tr>\n    <tr>\n      <th>.Jay and Silent Bob Reboot(2019)</th>\n      <td>26726</td>\n    </tr>\n    <tr>\n      <th>.Cooties(2014)</th>\n      <td>26768</td>\n    </tr>\n    <tr>\n      <th>.The Quest(1996)</th>\n      <td>26777</td>\n    </tr>\n    <tr>\n      <th>.Heropanti 2(2022)</th>\n      <td>26861</td>\n    </tr>\n    <tr>\n      <th>.Beckett(2021)</th>\n      <td>26873</td>\n    </tr>\n    <tr>\n      <th>.Shehzada(2023)</th>\n      <td>26897</td>\n    </tr>\n    <tr>\n      <th>.Fire with Fire(II) (2012)</th>\n      <td>26967</td>\n    </tr>\n    <tr>\n      <th>.Lifeforce(1985)</th>\n      <td>27010</td>\n    </tr>\n    <tr>\n      <th>.Tres metros sobre el cielo(2010)</th>\n      <td>27017</td>\n    </tr>\n    <tr>\n      <th>.The Outsider(I) (2018)</th>\n      <td>27046</td>\n    </tr>\n    <tr>\n      <th>.The Night Comes for Us(2018)</th>\n      <td>27161</td>\n    </tr>\n    <tr>\n      <th>.Way Down(2021)</th>\n      <td>27188</td>\n    </tr>\n    <tr>\n      <th>.Rurôni Kenshin: Meiji kenkaku roman tan(2012)</th>\n      <td>27221</td>\n    </tr>\n    <tr>\n      <th>.Tau ming chong(2007)</th>\n      <td>27233</td>\n    </tr>\n  </tbody>\n</table>\n</div>"
     },
     "execution_count": 115,
     "metadata": {},
     "output_type": "execute_result"
    }
   ],
   "source": [
    "df_votes_list\n"
   ],
   "metadata": {
    "collapsed": false
   }
  },
  {
   "cell_type": "code",
   "execution_count": 116,
   "outputs": [],
   "source": [
    "df_votes_list['Ratings'] = ratings_list\n"
   ],
   "metadata": {
    "collapsed": false
   }
  },
  {
   "cell_type": "code",
   "execution_count": 117,
   "outputs": [
    {
     "data": {
      "text/plain": "                                                Votes Ratings\nTitles                                                       \nNowhere to Run(1993)                            25019     5.7\nStormbreaker(2006)                              25027     5.1\nMuppet Treasure Island(1996)                    25045     6.9\nAgneepath(2012)                                 25175     6.9\nEvangelion Shin Gekijôban: Jo(2007)             25180     7.6\nKoi... Mil Gaya(2003)                           25205     7.1\n2.0(2018)                                       25387     6.1\nCrocodile Dundee in Los Angeles(2001)           25411     4.8\nThe Contract(2006)                              25419     5.6\n.Men at Work(1990)                              25481     5.9\n.Død snø 2(2014)                                25537     6.8\n.Gabbar Is Back(2015)                           25586     7.1\n.Eega(2012)                                     25612     7.7\n.Close(I) (2019)                                25617     5.7\n.Rangasthalam(2018)                             25656     8.2\n.Shotgun Wedding(2022)                          25703     5.4\n.Universal Soldier: Regeneration(2009)          25931     5.2\n.Godsend(2004)                                  25975     4.8\n.The Shadow(1994)                               26032     6.0\n.The Man(2005)                                  26071     5.5\n.Arjun Reddy(2017)                              26073     8.0\n.Sarfarosh(1999)                                26095     8.1\n.Thunivu(2023)                                  26193     6.2\n.Rollerball(1975)                               26254     6.6\n.The Adventures of Pluto Nash(2002)             26298     3.8\n.Taeksi woonjunsa(2017)                         26341     7.9\n.Spy Kids 4: All the Time in the World(2011)    26376     3.5\n.Thunderbolt and Lightfoot(1974)                26396     7.0\n.An Action Hero(2022)                           26461     7.1\n.Hamburger Hill(1987)                           26461     6.7\n.The Black Hole(1979)                           26483     5.9\n.Bodyguard(I) (2011)                            26595     4.7\n.Seungriho(2021)                                26630     6.5\n.The Lovebirds(2020)                            26688     6.1\n.Mutant Chronicles(2008)                        26694     5.2\n.The Warrior's Way(2010)                        26697     6.2\n.Jay and Silent Bob Reboot(2019)                26726     5.6\n.Cooties(2014)                                  26768     5.7\n.The Quest(1996)                                26777     5.6\n.Heropanti 2(2022)                              26861     2.5\n.Beckett(2021)                                  26873     5.7\n.Shehzada(2023)                                 26897     5.3\n.Fire with Fire(II) (2012)                      26967     5.6\n.Lifeforce(1985)                                27010     6.1\n.Tres metros sobre el cielo(2010)               27017     6.8\n.The Outsider(I) (2018)                         27046     6.2\n.The Night Comes for Us(2018)                   27161     6.9\n.Way Down(2021)                                 27188     6.4\n.Rurôni Kenshin: Meiji kenkaku roman tan(2012)  27221     7.4\n.Tau ming chong(2007)                           27233     7.0",
      "text/html": "<div>\n<style scoped>\n    .dataframe tbody tr th:only-of-type {\n        vertical-align: middle;\n    }\n\n    .dataframe tbody tr th {\n        vertical-align: top;\n    }\n\n    .dataframe thead th {\n        text-align: right;\n    }\n</style>\n<table border=\"1\" class=\"dataframe\">\n  <thead>\n    <tr style=\"text-align: right;\">\n      <th></th>\n      <th>Votes</th>\n      <th>Ratings</th>\n    </tr>\n    <tr>\n      <th>Titles</th>\n      <th></th>\n      <th></th>\n    </tr>\n  </thead>\n  <tbody>\n    <tr>\n      <th>Nowhere to Run(1993)</th>\n      <td>25019</td>\n      <td>5.7</td>\n    </tr>\n    <tr>\n      <th>Stormbreaker(2006)</th>\n      <td>25027</td>\n      <td>5.1</td>\n    </tr>\n    <tr>\n      <th>Muppet Treasure Island(1996)</th>\n      <td>25045</td>\n      <td>6.9</td>\n    </tr>\n    <tr>\n      <th>Agneepath(2012)</th>\n      <td>25175</td>\n      <td>6.9</td>\n    </tr>\n    <tr>\n      <th>Evangelion Shin Gekijôban: Jo(2007)</th>\n      <td>25180</td>\n      <td>7.6</td>\n    </tr>\n    <tr>\n      <th>Koi... Mil Gaya(2003)</th>\n      <td>25205</td>\n      <td>7.1</td>\n    </tr>\n    <tr>\n      <th>2.0(2018)</th>\n      <td>25387</td>\n      <td>6.1</td>\n    </tr>\n    <tr>\n      <th>Crocodile Dundee in Los Angeles(2001)</th>\n      <td>25411</td>\n      <td>4.8</td>\n    </tr>\n    <tr>\n      <th>The Contract(2006)</th>\n      <td>25419</td>\n      <td>5.6</td>\n    </tr>\n    <tr>\n      <th>.Men at Work(1990)</th>\n      <td>25481</td>\n      <td>5.9</td>\n    </tr>\n    <tr>\n      <th>.Død snø 2(2014)</th>\n      <td>25537</td>\n      <td>6.8</td>\n    </tr>\n    <tr>\n      <th>.Gabbar Is Back(2015)</th>\n      <td>25586</td>\n      <td>7.1</td>\n    </tr>\n    <tr>\n      <th>.Eega(2012)</th>\n      <td>25612</td>\n      <td>7.7</td>\n    </tr>\n    <tr>\n      <th>.Close(I) (2019)</th>\n      <td>25617</td>\n      <td>5.7</td>\n    </tr>\n    <tr>\n      <th>.Rangasthalam(2018)</th>\n      <td>25656</td>\n      <td>8.2</td>\n    </tr>\n    <tr>\n      <th>.Shotgun Wedding(2022)</th>\n      <td>25703</td>\n      <td>5.4</td>\n    </tr>\n    <tr>\n      <th>.Universal Soldier: Regeneration(2009)</th>\n      <td>25931</td>\n      <td>5.2</td>\n    </tr>\n    <tr>\n      <th>.Godsend(2004)</th>\n      <td>25975</td>\n      <td>4.8</td>\n    </tr>\n    <tr>\n      <th>.The Shadow(1994)</th>\n      <td>26032</td>\n      <td>6.0</td>\n    </tr>\n    <tr>\n      <th>.The Man(2005)</th>\n      <td>26071</td>\n      <td>5.5</td>\n    </tr>\n    <tr>\n      <th>.Arjun Reddy(2017)</th>\n      <td>26073</td>\n      <td>8.0</td>\n    </tr>\n    <tr>\n      <th>.Sarfarosh(1999)</th>\n      <td>26095</td>\n      <td>8.1</td>\n    </tr>\n    <tr>\n      <th>.Thunivu(2023)</th>\n      <td>26193</td>\n      <td>6.2</td>\n    </tr>\n    <tr>\n      <th>.Rollerball(1975)</th>\n      <td>26254</td>\n      <td>6.6</td>\n    </tr>\n    <tr>\n      <th>.The Adventures of Pluto Nash(2002)</th>\n      <td>26298</td>\n      <td>3.8</td>\n    </tr>\n    <tr>\n      <th>.Taeksi woonjunsa(2017)</th>\n      <td>26341</td>\n      <td>7.9</td>\n    </tr>\n    <tr>\n      <th>.Spy Kids 4: All the Time in the World(2011)</th>\n      <td>26376</td>\n      <td>3.5</td>\n    </tr>\n    <tr>\n      <th>.Thunderbolt and Lightfoot(1974)</th>\n      <td>26396</td>\n      <td>7.0</td>\n    </tr>\n    <tr>\n      <th>.An Action Hero(2022)</th>\n      <td>26461</td>\n      <td>7.1</td>\n    </tr>\n    <tr>\n      <th>.Hamburger Hill(1987)</th>\n      <td>26461</td>\n      <td>6.7</td>\n    </tr>\n    <tr>\n      <th>.The Black Hole(1979)</th>\n      <td>26483</td>\n      <td>5.9</td>\n    </tr>\n    <tr>\n      <th>.Bodyguard(I) (2011)</th>\n      <td>26595</td>\n      <td>4.7</td>\n    </tr>\n    <tr>\n      <th>.Seungriho(2021)</th>\n      <td>26630</td>\n      <td>6.5</td>\n    </tr>\n    <tr>\n      <th>.The Lovebirds(2020)</th>\n      <td>26688</td>\n      <td>6.1</td>\n    </tr>\n    <tr>\n      <th>.Mutant Chronicles(2008)</th>\n      <td>26694</td>\n      <td>5.2</td>\n    </tr>\n    <tr>\n      <th>.The Warrior's Way(2010)</th>\n      <td>26697</td>\n      <td>6.2</td>\n    </tr>\n    <tr>\n      <th>.Jay and Silent Bob Reboot(2019)</th>\n      <td>26726</td>\n      <td>5.6</td>\n    </tr>\n    <tr>\n      <th>.Cooties(2014)</th>\n      <td>26768</td>\n      <td>5.7</td>\n    </tr>\n    <tr>\n      <th>.The Quest(1996)</th>\n      <td>26777</td>\n      <td>5.6</td>\n    </tr>\n    <tr>\n      <th>.Heropanti 2(2022)</th>\n      <td>26861</td>\n      <td>2.5</td>\n    </tr>\n    <tr>\n      <th>.Beckett(2021)</th>\n      <td>26873</td>\n      <td>5.7</td>\n    </tr>\n    <tr>\n      <th>.Shehzada(2023)</th>\n      <td>26897</td>\n      <td>5.3</td>\n    </tr>\n    <tr>\n      <th>.Fire with Fire(II) (2012)</th>\n      <td>26967</td>\n      <td>5.6</td>\n    </tr>\n    <tr>\n      <th>.Lifeforce(1985)</th>\n      <td>27010</td>\n      <td>6.1</td>\n    </tr>\n    <tr>\n      <th>.Tres metros sobre el cielo(2010)</th>\n      <td>27017</td>\n      <td>6.8</td>\n    </tr>\n    <tr>\n      <th>.The Outsider(I) (2018)</th>\n      <td>27046</td>\n      <td>6.2</td>\n    </tr>\n    <tr>\n      <th>.The Night Comes for Us(2018)</th>\n      <td>27161</td>\n      <td>6.9</td>\n    </tr>\n    <tr>\n      <th>.Way Down(2021)</th>\n      <td>27188</td>\n      <td>6.4</td>\n    </tr>\n    <tr>\n      <th>.Rurôni Kenshin: Meiji kenkaku roman tan(2012)</th>\n      <td>27221</td>\n      <td>7.4</td>\n    </tr>\n    <tr>\n      <th>.Tau ming chong(2007)</th>\n      <td>27233</td>\n      <td>7.0</td>\n    </tr>\n  </tbody>\n</table>\n</div>"
     },
     "execution_count": 117,
     "metadata": {},
     "output_type": "execute_result"
    }
   ],
   "source": [
    "df_votes_list\n"
   ],
   "metadata": {
    "collapsed": false
   }
  },
  {
   "cell_type": "code",
   "execution_count": 118,
   "outputs": [
    {
     "data": {
      "text/plain": "<Figure size 640x480 with 1 Axes>",
      "image/png": "[encoded data removed]"
     },
     "metadata": {},
     "output_type": "display_data"
    }
   ],
   "source": [
    "plt.scatter(df_votes_list.Votes, df_votes_list.Ratings, edgecolors=['blue', 'red'])\n",
    "plt.xticks(rotation=90)\n",
    "plt.show()\n"
   ],
   "metadata": {
    "collapsed": false
   }
  },
  {
   "cell_type": "code",
   "execution_count": null,
   "outputs": [],
   "source": [],
   "metadata": {
    "collapsed": false
   }
  }
 ],
 "metadata": {
  "kernelspec": {
   "display_name": "Python 3 (ipykernel)",
   "language": "python",
   "name": "python3"
  },
  "language_info": {
   "codemirror_mode": {
    "name": "ipython",
    "version": 3
   },
   "file_extension": ".py",
   "mimetype": "text/x-python",
   "name": "python",
   "nbconvert_exporter": "python",
   "pygments_lexer": "ipython3",
   "version": "3.11.2"
  }
 },
 "nbformat": 4,
 "nbformat_minor": 1
}
